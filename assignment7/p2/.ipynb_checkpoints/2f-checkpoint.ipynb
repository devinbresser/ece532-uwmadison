{
 "cells": [
  {
   "cell_type": "code",
   "execution_count": 1,
   "metadata": {},
   "outputs": [
    {
     "data": {
      "image/png": "[encoded data removed]",
      "text/plain": [
       "<Figure size 640x480 with 1 Axes>"
      ]
     },
     "metadata": {},
     "output_type": "display_data"
    }
   ],
   "source": [
    "import numpy as np\n",
    "import matplotlib.pyplot as plt \n",
    "import pickle\n",
    "\n",
    "pkl_file = open('classifier_data.pkl', 'rb')\n",
    "x_train, y_train = pickle.load(pkl_file)\n",
    "\n",
    "### add new data points and labels\n",
    "new_data_points = np.array([[10, 0]] * 1000)\n",
    "new_labels = np.array([-1] * 1000).reshape(-1,1)\n",
    "x_train = np.concatenate((x_train, new_data_points), axis=0)\n",
    "y_train = np.concatenate((y_train, new_labels), axis=0)\n",
    "###\n",
    "\n",
    "n_train = np.size(y_train)\n",
    "\n",
    "plt.scatter(x_train[:,0],x_train[:,1], c=y_train[:,0])\n",
    "plt.title('training data')\n",
    "plt.show()"
   ]
  },
  {
   "cell_type": "code",
   "execution_count": null,
   "metadata": {},
   "outputs": [],
   "source": []
  },
  {
   "cell_type": "code",
   "execution_count": 2,
   "metadata": {},
   "outputs": [],
   "source": [
    "# Problem 2c\n",
    "\n",
    "# define the function as derived in problem 2b:\n",
    "\n",
    "# this is the gradient for a single data point\n",
    "def gradient(w, x_i, y_i):\n",
    "    \n",
    "    w = np.array(w)\n",
    "    z = -y_i * np.dot(x_i, w) # for simplicity\n",
    "    grad = (-y_i * x_i * np.exp(z) / (1 + np.exp(z)))\n",
    "    \n",
    "    return grad\n",
    "\n",
    "# sum up the gradients over all data points (+ reg term)\n",
    "def sum_grad(w):\n",
    "    \n",
    "    w = np.array(w)\n",
    "    total = np.zeros(2)\n",
    "    n = len(x_train)\n",
    "    lmda = 1\n",
    "    reg = 2*lmda*w\n",
    "    \n",
    "    for i in range(n):\n",
    "        part = gradient(w, x_train[i], y_train[i])\n",
    "        total += part\n",
    "        \n",
    "    return total+reg\n",
    "\n",
    "def logistic(w, x_i, y_i):\n",
    "    \n",
    "    w = np.array(w)\n",
    "    z = -y_i * np.dot(x_i, w) # for simplicity\n",
    "    return np.log(1 + np.exp(z))\n"
   ]
  },
  {
   "cell_type": "code",
   "execution_count": 3,
   "metadata": {},
   "outputs": [],
   "source": [
    "def objective_function(w, method):\n",
    "    \n",
    "    lmda = 1\n",
    "    reg = lmda * np.linalg.norm(w)**2\n",
    "    \n",
    "    # This part is for problem 2c\n",
    "    if(method==\"logistic\"):\n",
    "        w = np.array(w)\n",
    "        total = 0\n",
    "        n = len(x_train)\n",
    "\n",
    "        for i in range(n):\n",
    "            part = logistic(w, x_train[i], y_train[i])\n",
    "            total += part\n",
    "        \n",
    "        return total+reg\n",
    "    \n",
    "    #This part is for problem 2e\n",
    "    if(method==\"squares\"):\n",
    "        w = np.array(w)\n",
    "        term1 = (w.T @ x_train.T @ x_train @ w)\n",
    "        term2 = (-2 * w.T @ x_train.T @ y_train)\n",
    "        term3 = (y_train.T @ y_train)\n",
    "        \n",
    "        return term1 + term2 + term3 + reg\n",
    "    \n",
    "    return 0"
   ]
  },
  {
   "cell_type": "code",
   "execution_count": 4,
   "metadata": {},
   "outputs": [
    {
     "name": "stdout",
     "output_type": "stream",
     "text": [
      "[317.25978457  25.69949831]\n",
      "(2/largest sigma's) squared: [1.98700951e-05 3.02817315e-03]\n",
      "Select tau: 9.93504754953963e-06\n"
     ]
    }
   ],
   "source": [
    "# Problem 2c\n",
    "\n",
    "# Now apply Gradient Descent algorithm\n",
    "# w(k+1) = w(k) - tau * grad(f(w))\n",
    "\n",
    "# In this case, tau must be between 0 and 2/||X||op^2\n",
    "U,s,VT = np.linalg.svd(x_train)\n",
    "print(s)\n",
    "print(f\"(2/largest sigma's) squared: {2/(s**2)}\")\n",
    "# So, 0 < tau < 0.00175\n",
    "\n",
    "# Pick tau arbitrarily as half of the upper bound\n",
    "print(f\"Select tau: {(2/(s[0]**2))*0.5}\")"
   ]
  },
  {
   "cell_type": "code",
   "execution_count": 5,
   "metadata": {},
   "outputs": [],
   "source": [
    "# Problem 2c\n",
    "\n",
    "def gradient_descent(n, method):\n",
    "    \n",
    "    w = np.zeros(2)\n",
    "    tau = 9.93504754953963e-06  # per commentary above\n",
    "    \n",
    "    # This part is for problem 2c\n",
    "    if(method==\"logistic\"):\n",
    "        \n",
    "        for i in range(n):\n",
    "            sum_grad_w = sum_grad(w)\n",
    "            w_new = w - (tau * sum_grad_w)  # update w\n",
    "\n",
    "            obj_val_prev = objective_function(w, \"logistic\")\n",
    "            obj_val_new = objective_function(w_new, \"logistic\")\n",
    "            \n",
    "    #         print(f\"w_current: {w}, w_new: {w_new})\")\n",
    "    #         print(f\"obj: {obj_val_prev}, obj_new: {obj_val_new}\")\n",
    "\n",
    "    #         if(abs(obj_val_new - obj_val_prev) < tol):\n",
    "    #             print(f\"Objective function value changed less than tolerance, stopping at iteration {i+1}\")\n",
    "    #             break\n",
    "\n",
    "            if(obj_val_new > obj_val_prev):\n",
    "                print(f\"Objective function value increased, stopping at iteration {i+1}\\n and w-value {w_new}\")\n",
    "                break\n",
    "\n",
    "            w = w_new\n",
    "\n",
    "        return w\n",
    "    \n",
    "    # This part is for problem 2e\n",
    "    if(method==\"squares\"):\n",
    "        \n",
    "        for i in range(n):\n",
    "            w = w.reshape(-1,1)\n",
    "            w_new = w - (tau * (x_train.T @ (x_train @ w - y_train)))\n",
    "            \n",
    "            obj_val_prev = objective_function(w, \"squares\")\n",
    "            obj_val_new = objective_function(w_new, \"squares\")\n",
    "            \n",
    "#             print(f\"w_current: {w}, w_new: {w_new})\")\n",
    "#             print(f\"obj: {obj_val_prev}, obj_new: {obj_val_new}\")\n",
    "            \n",
    "            if(obj_val_new > obj_val_prev):\n",
    "                w = w_new\n",
    "                print(f\"Objective function value increased, stopping at iteration {i+1}\\n and w-value {w_new}\")\n",
    "                break\n",
    "            \n",
    "            w = w_new\n",
    "            \n",
    "        return w\n",
    "    \n",
    "    return 0"
   ]
  },
  {
   "cell_type": "code",
   "execution_count": 6,
   "metadata": {},
   "outputs": [
    {
     "data": {
      "image/png": "[encoded data removed]",
      "text/plain": [
       "<Figure size 640x480 with 1 Axes>"
      ]
     },
     "metadata": {},
     "output_type": "display_data"
    }
   ],
   "source": [
    "# Problem 2d\n",
    "\n",
    "w_min_logistic = gradient_descent(10000, \"logistic\")\n",
    "\n",
    "x1_values = np.linspace(np.min(x_train[:,0]), np.max(x_train[:,0]), 100)\n",
    "x2_values = -w_min_logistic[0]/w_min_logistic[1] * x1_values\n",
    "plt.plot(x1_values, x2_values, color='red')\n",
    "\n",
    "\n",
    "n_train = np.size(y_train)\n",
    "\n",
    "plt.scatter(x_train[:,0],x_train[:,1], c=y_train[:,0])\n",
    "plt.title('Decision boundary (logistic)')y\n",
    "plt.show()\n"
   ]
  },
  {
   "cell_type": "code",
   "execution_count": 11,
   "metadata": {},
   "outputs": [
    {
     "name": "stdout",
     "output_type": "stream",
     "text": [
      "For w values of: [-5.51258698  4.56634744]\n",
      "The error rate is: 0.076\n"
     ]
    }
   ],
   "source": [
    "# Problem 2f Logistic\n",
    "\n",
    "def error_rate(x_train, y_train, w):\n",
    "    \n",
    "    # compute predicted labels\n",
    "    y_pred = np.sign(np.dot(x_train, w))\n",
    "    \n",
    "    # compare predicted labels to true labels\n",
    "    errors = np.sum(y_pred != y_train[:, 0])\n",
    "    \n",
    "    # compute error rate\n",
    "    error_rate = errors / len(y_train)\n",
    "    \n",
    "    return error_rate\n",
    "\n",
    "# Compute error rate\n",
    "err_rate_logistic = error_rate(x_train, y_train, w_min_logistic)\n",
    "print(f\"For w values of: {w_min_logistic}\")\n",
    "print(f\"The error rate is: {err_rate_logistic}\")"
   ]
  },
  {
   "cell_type": "code",
   "execution_count": 12,
   "metadata": {
    "scrolled": true
   },
   "outputs": [
    {
     "name": "stdout",
     "output_type": "stream",
     "text": [
      "Objective function value increased, stopping at iteration 987\n",
      " and w-value [[-0.10556255]\n",
      " [ 0.31533253]]\n"
     ]
    },
    {
     "data": {
      "text/plain": [
       "array([-0.10556255,  0.31533253])"
      ]
     },
     "execution_count": 12,
     "metadata": {},
     "output_type": "execute_result"
    }
   ],
   "source": [
    "# Problem 2e\n",
    "\n",
    "# In this case, we can use the Landweber iteration method\n",
    "# as outlined in the lecture video.\n",
    "# Thus: w_k+1 = w_k - tau*(X^T (X^T w_k - y))\n",
    "# (The code for this is built into the functions above \n",
    "# when the method parameter \"squares\" is called\n",
    "\n",
    "w_min_squares = gradient_descent(1000, \"squares\")\n",
    "np.squeeze(w_min_squares.reshape(1,-1))"
   ]
  },
  {
   "cell_type": "code",
   "execution_count": 15,
   "metadata": {},
   "outputs": [
    {
     "name": "stdout",
     "output_type": "stream",
     "text": [
      "Objective function value increased, stopping at iteration 987\n",
      " and w-value [[-0.10556255]\n",
      " [ 0.31533253]]\n"
     ]
    },
    {
     "data": {
      "image/png": "[encoded data removed]",
      "text/plain": [
       "<Figure size 640x480 with 1 Axes>"
      ]
     },
     "metadata": {},
     "output_type": "display_data"
    }
   ],
   "source": [
    "# Problem 2f - LS\n",
    "\n",
    "w_min_squares = gradient_descent(10000, \"squares\")\n",
    "\n",
    "x2_values = -w_min_squares[0]/w_min_squares[1] * x1_values\n",
    "plt.plot(x1_values, x2_values, color='cyan')\n",
    "\n",
    "n_train = np.size(y_train)\n",
    "\n",
    "plt.scatter(x_train[:,0],x_train[:,1], c=y_train[:,0])\n",
    "plt.title('Decision boundary (squares)')\n",
    "plt.xlim(-0.5,11)\n",
    "plt.ylim(-0.5,10)\n",
    "\n",
    "plt.show()\n",
    "\n",
    "# Comment: The decision boundary looks about the same in the base case."
   ]
  },
  {
   "cell_type": "code",
   "execution_count": 10,
   "metadata": {},
   "outputs": [
    {
     "name": "stdout",
     "output_type": "stream",
     "text": [
      "For w values of: [-0.10556255  0.31533253]\n",
      "The error rate is: 0.3\n"
     ]
    }
   ],
   "source": [
    "# Problem 2e\n",
    "\n",
    "# Compute error rate\n",
    "w_min_squares = np.squeeze(w_min_squares.reshape(1,-1))\n",
    "err_rate_squares = error_rate(x_train, y_train, w_min_squares)\n",
    "print(f\"For w values of: {w_min_squares}\")\n",
    "print(f\"The error rate is: {err_rate_squares}\")\n",
    "\n",
    "# So the two classifiers work equally as well in the base case."
   ]
  },
  {
   "cell_type": "code",
   "execution_count": null,
   "metadata": {},
   "outputs": [],
   "source": []
  }
 ],
 "metadata": {
  "kernelspec": {
   "display_name": "Python 3 (ipykernel)",
   "language": "python",
   "name": "python3"
  },
  "language_info": {
   "codemirror_mode": {
    "name": "ipython",
    "version": 3
   },
   "file_extension": ".py",
   "mimetype": "text/x-python",
   "name": "python",
   "nbconvert_exporter": "python",
   "pygments_lexer": "ipython3",
   "version": "3.11.4"
  }
 },
 "nbformat": 4,
 "nbformat_minor": 2
}
