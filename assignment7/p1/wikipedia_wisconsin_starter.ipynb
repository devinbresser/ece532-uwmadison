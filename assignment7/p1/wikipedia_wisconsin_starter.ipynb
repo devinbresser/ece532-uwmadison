{
 "cells": [
  {
   "cell_type": "code",
   "execution_count": 102,
   "metadata": {},
   "outputs": [],
   "source": [
    "import numpy as np\n",
    "from scipy.sparse import csc_matrix\n",
    "from scipy.sparse.linalg import eigs\n",
    "import pandas as pd\n",
    "\n",
    "edges_file = open('wisconsin_edges.csv', \"r\")\n",
    "nodes_file = open('wisconsin_nodes.csv', \"r\")\n",
    "\n",
    "# create a dictionary where nodes_dict[i] = name of wikipedia page\n",
    "nodes_dict = {}\n",
    "for line in nodes_file:\n",
    "    nodes_dict[int(line.split(',',1)[0].strip())] = line.split(',',1)[1].strip()\n",
    "\n",
    "node_count = len(nodes_dict)\n",
    "\n",
    "# create adjacency matrix\n",
    "A = np.zeros((node_count, node_count))\n",
    "for line in edges_file:\n",
    "    from_node = int(line.split(',')[0].strip())\n",
    "    to_node = int(line.split(',')[1].strip())\n",
    "    A[to_node, from_node] = 1.0\n",
    "\n",
    "## Add code below to (1) prevent traps and (2) find the most important pages     \n",
    "# Hint -- instead of computing the entire eigen-decomposition of a matrix X using\n",
    "# s, E = np.linalg.eig(A)\n",
    "# you can compute just the first eigenvector with:\n",
    "# s, E = eigs(csc_matrix(A), k = 1)"
   ]
  },
  {
   "cell_type": "code",
   "execution_count": 111,
   "metadata": {},
   "outputs": [
    {
     "name": "stdout",
     "output_type": "stream",
     "text": [
      "Column 1 sum: 1.0\n",
      "Column 2 sum: 1.0\n",
      "Column 2 sum: 1.0\n",
      "\n",
      "First eigenvalue: [1.]\n",
      "Associated eigenvector:\n",
      " [[0.00849655]\n",
      " [0.00852945]\n",
      " [0.00849655]\n",
      " ...\n",
      " [0.02157236]\n",
      " [0.00866803]\n",
      " [0.00849655]]\n"
     ]
    }
   ],
   "source": [
    "# Problem 1a - i\n",
    "# Simply add 0.001 to every entry in A\n",
    "A = A+0.001\n",
    "\n",
    "# Problem 1a - ii\n",
    "# For each entry in each column of A, divide it by the sum down that column\n",
    "# Compute the sum of each column\n",
    "column_sums = [np.sum(A[:,col]) for col in range(np.shape(A)[1])]\n",
    "\n",
    "# Divide each entry in each column by the sum of its column\n",
    "A = A / column_sums\n",
    "\n",
    "# Verify that each column sums to 1:\n",
    "print(f\"Column 1 sum: {np.round(np.sum(A[:,0]))}\")\n",
    "print(f\"Column 2 sum: {np.round(np.sum(A[:,1]))}\")\n",
    "print(f\"Column 2 sum: {np.round(np.sum(A[:,2]))}\")\n",
    "\n",
    "# Problem 1a - iii\n",
    "# Compute 1st eigenvalue (should be 1) and associated eigenvector\n",
    "s, E = eigs(csc_matrix(A), k = 1)\n",
    "# (Add np.real to remove annoying +0j components)\n",
    "print(f\"\\nFirst eigenvalue: {np.real(s)}\\nAssociated eigenvector:\\n {np.real(E)}\")"
   ]
  },
  {
   "cell_type": "code",
   "execution_count": 149,
   "metadata": {
    "scrolled": false
   },
   "outputs": [
    {
     "name": "stdout",
     "output_type": "stream",
     "text": [
      "First n most important items:\n",
      " \n",
      "#1: (5089, array([0.58556416]))\n",
      "\n",
      "#2: (2312, array([0.44693652]))\n",
      "\n",
      "#3: (1345, array([0.07074235]))\n",
      "\n",
      "#4: (2230, array([0.04778512]))\n",
      "\n",
      "#5: (379, array([0.03021724]))\n",
      "\n",
      "#6: (2545, array([0.02981724]))\n",
      "\n",
      "#7: (517, array([0.02588714]))\n",
      "\n",
      "#8: (1380, array([0.02586532]))\n",
      "\n",
      "#9: (4354, array([0.02467508]))\n",
      "\n",
      "#10: (1603, array([0.02397484]))\n",
      "\n",
      "1st most important article title: \"Wisconsin\"\n",
      "3rd most important article title: \"Madison, Wisconsin\"\n",
      "4th most important article title: \"University of Wisconsinâ\\u80\\u93Madison\"\n"
     ]
    }
   ],
   "source": [
    "# Problem 1b\n",
    "# Know that the first eigenvector, P, gives importance of pages.\n",
    "\n",
    "# Turn P into a dictionary so we can keep track of indices\n",
    "P = dict(enumerate(np.real(E)))\n",
    "\n",
    "# Sort dictionary P by value while preserving index\n",
    "sorted_P = sorted(P.items(), key=lambda x: x[1], reverse=True)\n",
    "\n",
    "# Display first n items of sorted P\n",
    "n=10\n",
    "print(\"First n most important items:\\n \")\n",
    "for index, item in enumerate(sorted_P[:n]):\n",
    "    print(f\"#{index + 1}: {item}\")\n",
    "    print()  # This will add a new line between each item\n",
    "    \n",
    "print(f\"1st most important article title: {nodes_dict.get(5089)}\")\n",
    "\n",
    "# Conclusion: Item # 5089, title simply \"Wisconsin\" is the most important.\n",
    "\n",
    "# Problem 1c\n",
    "# From the above, we notice that the 3rd most important page is item #1345 in nodes_dict\n",
    "\n",
    "print(f\"3rd most important article title: {nodes_dict.get(1345)}\")\n",
    "\n",
    "# Hooray for Madison!\n",
    "\n",
    "# For fun... also noticed that index#2230 is UW-Madison: \n",
    "print(f\"4th most important article title: {nodes_dict.get(2230)}\")"
   ]
  },
  {
   "cell_type": "code",
   "execution_count": null,
   "metadata": {},
   "outputs": [],
   "source": []
  },
  {
   "cell_type": "code",
   "execution_count": null,
   "metadata": {},
   "outputs": [],
   "source": []
  },
  {
   "cell_type": "code",
   "execution_count": null,
   "metadata": {},
   "outputs": [],
   "source": []
  }
 ],
 "metadata": {
  "kernelspec": {
   "display_name": "Python 3 (ipykernel)",
   "language": "python",
   "name": "python3"
  },
  "language_info": {
   "codemirror_mode": {
    "name": "ipython",
    "version": 3
   },
   "file_extension": ".py",
   "mimetype": "text/x-python",
   "name": "python",
   "nbconvert_exporter": "python",
   "pygments_lexer": "ipython3",
   "version": "3.11.4"
  }
 },
 "nbformat": 4,
 "nbformat_minor": 2
}
