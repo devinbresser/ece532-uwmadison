{
 "cells": [
  {
   "cell_type": "code",
   "execution_count": null,
   "metadata": {},
   "outputs": [],
   "source": [
    "# Kernel fitting to data\n",
    "\n",
    "lam = 0.01 #ridge regression parameter\n",
    "\n",
    "distsq=np.zeros((n,n),dtype=float)\n",
    "\n",
    "for i in range(0,n):\n",
    "    for j in range(0,n):\n",
    "        distsq[i,j]=(x[i]-x[j])**2\n",
    "        \n",
    "K = np.exp(-distsq/(2*sigma**2))\n",
    "\n",
    "alpha = np.linalg.inv(K+lam*np.identity(n))@d"
   ]
  },
  {
   "cell_type": "code",
   "execution_count": null,
   "metadata": {},
   "outputs": [],
   "source": [
    "# Generate smooth curve corresponding to data fit\n",
    "\n",
    "distsq_xtest = np.zeros((p,n),dtype=float)\n",
    "for i in range(0,p):\n",
    "    for j in range(0,n):\n",
    "        distsq_xtest[i,j] = (x_test[i]-x[j])**2\n",
    "        \n",
    "dtest = np.exp(-distsq_xtest/(2*sigma**2))@alpha\n",
    "\n",
    "dtrue = x_test*x_test + 0.4*np.sin(1.5*np.pi*x_test)  # noise free data for comparison\n",
    "\n",
    "print('Sigma = ',sigma)\n",
    "print('Lambda = ',lam)\n",
    "plt.plot(x,d,'bo',label='Measured data')\n",
    "plt.plot(x_test,dtest,'r',label='Kernel fit')\n",
    "plt.plot(x_test,dtrue,'g',label='True noise free')\n",
    "plt.title('Data and Kernel Fit')\n",
    "plt.legend(loc='lower right')\n",
    "plt.xlabel('x')\n",
    "plt.ylabel('d')\n",
    "plt.show()"
   ]
  },
  {
   "cell_type": "code",
   "execution_count": null,
   "metadata": {},
   "outputs": [],
   "source": []
  }
 ],
 "metadata": {
  "kernelspec": {
   "display_name": "Python 3 (ipykernel)",
   "language": "python",
   "name": "python3"
  },
  "language_info": {
   "codemirror_mode": {
    "name": "ipython",
    "version": 3
   },
   "file_extension": ".py",
   "mimetype": "text/x-python",
   "name": "python",
   "nbconvert_exporter": "python",
   "pygments_lexer": "ipython3",
   "version": "3.11.4"
  }
 },
 "nbformat": 4,
 "nbformat_minor": 2
}
