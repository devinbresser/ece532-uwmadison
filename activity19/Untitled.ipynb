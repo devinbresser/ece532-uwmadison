{
 "cells": [
  {
   "cell_type": "code",
   "execution_count": 1,
   "id": "805329d3",
   "metadata": {},
   "outputs": [],
   "source": [
    "import numpy as np"
   ]
  },
  {
   "cell_type": "code",
   "execution_count": 31,
   "id": "efaf238e",
   "metadata": {},
   "outputs": [],
   "source": [
    "# Problem 2 - Devin Bresser\n",
    "\n",
    "X = np.array([[2,1],[1.5,1],[0.5,1],[-5,1]])\n",
    "y = np.array([[1],[1],[-1],[-1]])"
   ]
  },
  {
   "cell_type": "code",
   "execution_count": 32,
   "id": "20a0878f",
   "metadata": {},
   "outputs": [
    {
     "data": {
      "text/plain": [
       "array([[ 1.],\n",
       "       [ 1.],\n",
       "       [ 1.],\n",
       "       [-1.]])"
      ]
     },
     "execution_count": 32,
     "metadata": {},
     "output_type": "execute_result"
    }
   ],
   "source": [
    "w_min = np.linalg.inv((X.T @ X)) @ X.T @ y\n",
    "np.sign(X @ w_min)"
   ]
  },
  {
   "cell_type": "code",
   "execution_count": 30,
   "id": "45605b70",
   "metadata": {},
   "outputs": [],
   "source": [
    "# Problem 2d comment: Now point 3 is misclassified"
   ]
  },
  {
   "cell_type": "code",
   "execution_count": null,
   "id": "e109103e",
   "metadata": {},
   "outputs": [],
   "source": []
  }
 ],
 "metadata": {
  "kernelspec": {
   "display_name": "Python 3 (ipykernel)",
   "language": "python",
   "name": "python3"
  },
  "language_info": {
   "codemirror_mode": {
    "name": "ipython",
    "version": 3
   },
   "file_extension": ".py",
   "mimetype": "text/x-python",
   "name": "python",
   "nbconvert_exporter": "python",
   "pygments_lexer": "ipython3",
   "version": "3.11.4"
  }
 },
 "nbformat": 4,
 "nbformat_minor": 5
}
