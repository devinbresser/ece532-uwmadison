{
 "cells": [
  {
   "cell_type": "code",
   "execution_count": 5,
   "metadata": {
    "scrolled": true
   },
   "outputs": [
    {
     "name": "stdout",
     "output_type": "stream",
     "text": [
      "[[ 4  7  2  8  7  4  2]\n",
      " [ 9  3  5  6 10  5  5]\n",
      " [ 4  8  3  7  6  4  1]\n",
      " [ 9  2  6  5  9  5  4]\n",
      " [ 4  9  2  8  7  4  1]]\n"
     ]
    }
   ],
   "source": [
    "import numpy as np\n",
    "from scipy.io import loadmat\n",
    "import matplotlib.pyplot as plt \n",
    "\n",
    "in_data = loadmat('movie.mat')\n",
    "#loadmat() loads a matlab workspace into a python dictionary, where the names of the variables are the keys \n",
    "#in the dictionary.  To see what variables are loaded, uncomment the line below: \n",
    "#print([key for key in in_data])\n",
    "\n",
    "M = in_data['M']\n",
    "print(M)"
   ]
  },
  {
   "cell_type": "code",
   "execution_count": 6,
   "metadata": {},
   "outputs": [
    {
     "data": {
      "text/plain": [
       "5"
      ]
     },
     "execution_count": 6,
     "metadata": {},
     "output_type": "execute_result"
    }
   ],
   "source": [
    "# Problem 3(a)\n",
    "np.linalg.matrix_rank(M)\n",
    "# rank(M) = 5"
   ]
  },
  {
   "cell_type": "code",
   "execution_count": null,
   "metadata": {},
   "outputs": [],
   "source": [
    "# Problem 3(b)\n",
    "# M = TW\n",
    "\n",
    "# M is 5 x 7\n",
    "# T is 5 x r\n",
    "# W is r x 7"
   ]
  },
  {
   "cell_type": "code",
   "execution_count": null,
   "metadata": {},
   "outputs": [],
   "source": [
    "# Problem 3(c)\n",
    "\n",
    "# t1 , first taste vector:\n",
    "# t1 = 1/sqrt(5) [1 1 1 ... 1]\n",
    "\n",
    "# w should be [sum of column]\n",
    "# w 1,j"
   ]
  }
 ],
 "metadata": {
  "kernelspec": {
   "display_name": "Python 3 (ipykernel)",
   "language": "python",
   "name": "python3"
  },
  "language_info": {
   "codemirror_mode": {
    "name": "ipython",
    "version": 3
   },
   "file_extension": ".py",
   "mimetype": "text/x-python",
   "name": "python",
   "nbconvert_exporter": "python",
   "pygments_lexer": "ipython3",
   "version": "3.11.4"
  }
 },
 "nbformat": 4,
 "nbformat_minor": 2
}
