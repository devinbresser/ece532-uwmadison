{
 "cells": [
  {
   "cell_type": "markdown",
   "metadata": {},
   "source": [
    "## CS/ECE/ME532 Period 10 Activity\n",
    "\n",
    "Estimated Time:\n",
    "\n",
    "P1: 25 mins\n",
    "\n",
    "P2: 25 mins"
   ]
  },
  {
   "cell_type": "markdown",
   "metadata": {},
   "source": [
    "### Preambles"
   ]
  },
  {
   "cell_type": "code",
   "execution_count": 2,
   "metadata": {},
   "outputs": [],
   "source": [
    "import numpy as np # numpy\n",
    "from scipy.io import loadmat # load & save data\n",
    "from scipy.io import savemat\n",
    "import matplotlib.pyplot as plt # plot\n",
    "np.set_printoptions(formatter={'float': lambda x: \"{0:0.2f}\".format(x)})"
   ]
  },
  {
   "cell_type": "markdown",
   "metadata": {},
   "source": [
    "### Q1. $K$-means\n",
    "Let $\\boldsymbol{A} = \\left[ \\begin{array}{cccccc} 3 & 3 & 3 & -1 & -1 & -1\\\\ 1 & 1 & 1 & -3 & -3 & -3 \\\\ 1 & 1 & 1 & -3 & -3 & -3 \\\\3 & 3 & 3 & -1 & -1 & -1 \\end{array} \\right]$.   Use the provided script to help you complete the problem."
   ]
  },
  {
   "cell_type": "code",
   "execution_count": 18,
   "metadata": {},
   "outputs": [
    {
     "name": "stdout",
     "output_type": "stream",
     "text": [
      "A = \n",
      " [[3.00 3.00 3.00 -1.00 -1.00 -1.00]\n",
      " [1.00 1.00 1.00 -3.00 -3.00 -3.00]\n",
      " [1.00 1.00 1.00 -3.00 -3.00 -3.00]\n",
      " [3.00 3.00 3.00 -1.00 -1.00 -1.00]]\n"
     ]
    },
    {
     "data": {
      "text/plain": [
       "2"
      ]
     },
     "execution_count": 18,
     "metadata": {},
     "output_type": "execute_result"
    }
   ],
   "source": [
    "A = np.array([[3,3,3,-1,-1,-1],[1,1,1,-3,-3,-3],[1,1,1,-3,-3,-3],[3,3,3,-1,-1,-1]], float)\n",
    "rows, cols = A.shape\n",
    "print('A = \\n', A)\n",
    "np.linalg.matrix_rank(A)"
   ]
  },
  {
   "cell_type": "markdown",
   "metadata": {},
   "source": [
    "#### a) Understand the following implementation of the k-means algorithm and fill in the blank to define the distance function."
   ]
  },
  {
   "cell_type": "code",
   "execution_count": 6,
   "metadata": {},
   "outputs": [],
   "source": [
    "def dist(x, y):\n",
    "    \"\"\"\n",
    "    this function takes in two 1-d numpy as input an outputs \n",
    "    Euclidean the distance between them\n",
    "    \"\"\"\n",
    "    return np.sqrt(np.sum((x - y)**2)) ## Fill in the blank: Recall the 'distance' function used in the kMeans algorithm\n",
    "\n",
    "def kMeans(X, K, maxIters = 20):\n",
    "    \"\"\"\n",
    "    this implementation of k-means takes as input (i) a matrix X\n",
    "    (with the data points as columns) (ii) an integer K representing the number \n",
    "    of clusters, and returns (i) a matrix with the K columns representing \n",
    "    the cluster centers and (ii) a list C of the assigned cluster centers\n",
    "    \"\"\"\n",
    "    X_transpose = X.transpose()\n",
    "    centroids = X_transpose[np.random.choice(X.shape[0], K)]\n",
    "    for i in range(maxIters):\n",
    "        # Cluster Assignment step\n",
    "        C = np.array([np.argmin([dist(x_i, y_k) for y_k in centroids]) for x_i in X_transpose])\n",
    "        # Update centroids step \n",
    "        for k in range(K):\n",
    "            if (C == k).any():\n",
    "                centroids[k] = X_transpose[C == k].mean(axis = 0) \n",
    "            else: # if there are no data points assigned to this certain centroid\n",
    "                centroids[k] = X_transpose[np.random.choice(len(X))] \n",
    "    return centroids.transpose() , C"
   ]
  },
  {
   "cell_type": "markdown",
   "metadata": {},
   "source": [
    "#### b) Use the $K$-means algorithm to represent the columns of $\\boldsymbol{A}$ with a single cluster."
   ]
  },
  {
   "cell_type": "code",
   "execution_count": 8,
   "metadata": {},
   "outputs": [
    {
     "name": "stdout",
     "output_type": "stream",
     "text": [
      "A = \n",
      " [[3.00 3.00 3.00 -1.00 -1.00 -1.00]\n",
      " [1.00 1.00 1.00 -3.00 -3.00 -3.00]\n",
      " [1.00 1.00 1.00 -3.00 -3.00 -3.00]\n",
      " [3.00 3.00 3.00 -1.00 -1.00 -1.00]]\n",
      "centroids = \n",
      " [[1.00]\n",
      " [-1.00]\n",
      " [-1.00]\n",
      " [1.00]]\n",
      "centroid assignment = \n",
      " [0 0 0 0 0 0]\n"
     ]
    }
   ],
   "source": [
    "# k-means with 1 cluster\n",
    "centroids, C = kMeans(A, 1) ## Fill in the blank: call the \"kMeans\" algorithm with proper input arguments\n",
    "print('A = \\n', A)\n",
    "print('centroids = \\n', centroids)\n",
    "print('centroid assignment = \\n', C)"
   ]
  },
  {
   "cell_type": "markdown",
   "metadata": {},
   "source": [
    "#### c) Construct a matrix $\\hat{A}_{r=1}$ whose i-th column is the centroid corresponding to the i-th column of $A$. Note that this can be viewed as a rank-1 approximation to $A$. Compare the rank-1 approximation to the original matrix and explain the nature of the approximation in terms of the properties of the K-means algorithm."
   ]
  },
  {
   "cell_type": "code",
   "execution_count": 9,
   "metadata": {},
   "outputs": [
    {
     "name": "stdout",
     "output_type": "stream",
     "text": [
      "Rank-1 Approximation, \n",
      " A_hat_1 = \n",
      " [[1.00 1.00 1.00 1.00 1.00 1.00]\n",
      " [-1.00 -1.00 -1.00 -1.00 -1.00 -1.00]\n",
      " [-1.00 -1.00 -1.00 -1.00 -1.00 -1.00]\n",
      " [1.00 1.00 1.00 1.00 1.00 1.00]]\n"
     ]
    }
   ],
   "source": [
    "# Construct rank-1 approximation using cluster\n",
    "A_hat_1 = np.repeat(centroids, 6, axis=1)\n",
    " # Fill in the blank\n",
    "print('Rank-1 Approximation, \\n A_hat_1 = \\n', A_hat_1)"
   ]
  },
  {
   "cell_type": "markdown",
   "metadata": {},
   "source": [
    "#### d) Repeat b) and c) with $K=2$. Compare the rank-2 approximation to the original matrix and explain the nature of the approximation in terms of the properties of the K-means algorithm."
   ]
  },
  {
   "cell_type": "code",
   "execution_count": 14,
   "metadata": {},
   "outputs": [
    {
     "name": "stdout",
     "output_type": "stream",
     "text": [
      "A = \n",
      " [[3.00 3.00 3.00 -1.00 -1.00 -1.00]\n",
      " [1.00 1.00 1.00 -3.00 -3.00 -3.00]\n",
      " [1.00 1.00 1.00 -3.00 -3.00 -3.00]\n",
      " [3.00 3.00 3.00 -1.00 -1.00 -1.00]]\n",
      "centroids = \n",
      " [[3.00 -1.00]\n",
      " [1.00 -3.00]\n",
      " [1.00 -3.00]\n",
      " [3.00 -1.00]]\n",
      "centroid assignment = \n",
      " [0 0 0 1 1 1]\n"
     ]
    }
   ],
   "source": [
    "# k-means with 2 cluster\n",
    "centroids2, C2 = kMeans(A, 2) ## Fill in the blank: call the \"kMeans\" method with proper input arguments\n",
    "print('A = \\n', A)\n",
    "print('centroids = \\n', centroids2)\n",
    "print('centroid assignment = \\n', C2)\n"
   ]
  },
  {
   "cell_type": "code",
   "execution_count": 15,
   "metadata": {},
   "outputs": [
    {
     "name": "stdout",
     "output_type": "stream",
     "text": [
      "Rank-2 Approximation \n",
      " [[3.00 3.00 3.00 -1.00 -1.00 -1.00]\n",
      " [1.00 1.00 1.00 -3.00 -3.00 -3.00]\n",
      " [1.00 1.00 1.00 -3.00 -3.00 -3.00]\n",
      " [3.00 3.00 3.00 -1.00 -1.00 -1.00]]\n"
     ]
    }
   ],
   "source": [
    "A_hat_2 = centroids2[:, C2]\n",
    " # Fill in the blank\n",
    "print('Rank-2 Approximation \\n', A_hat_2)\n",
    "\n",
    "# Comment: the rank-2 approximation of A is just A because\n",
    "# A was rank 2 to begin with."
   ]
  },
  {
   "cell_type": "code",
   "execution_count": 19,
   "metadata": {},
   "outputs": [
    {
     "name": "stdout",
     "output_type": "stream",
     "text": [
      "Frobenius norm of difference between A and A_hat_1: 9.80\n",
      "Frobenius norm of difference between A and A_hat_2: 0.00\n"
     ]
    }
   ],
   "source": [
    "# Write code to compare A_hat_1 and A_hat_2 to the original matrix A\n",
    "\n",
    "frobenius_diff_A_A_hat_1 = np.linalg.norm(A - A_hat_1, 'fro')\n",
    "frobenius_diff_A_A_hat_2 = np.linalg.norm(A - A_hat_2, 'fro')\n",
    "\n",
    "print(f\"Frobenius norm of difference between A and A_hat_1: {frobenius_diff_A_A_hat_1:.2f}\")\n",
    "print(f\"Frobenius norm of difference between A and A_hat_2: {frobenius_diff_A_A_hat_2:.2f}\")"
   ]
  },
  {
   "cell_type": "markdown",
   "metadata": {},
   "source": [
    "### Q2. SVD"
   ]
  },
  {
   "cell_type": "markdown",
   "metadata": {},
   "source": [
    "Again let $\\boldsymbol{A} = \\left[ \\begin{array}{cccccc} 3 & 3 & 3 & -1 & -1 & -1\\\\ 1 & 1 & 1 & -3 & -3 & -3 \\\\ 1 & 1 & 1 & -3 & -3 & -3 \\\\3 & 3 & 3 & -1 & -1 & -1 \\end{array} \\right]$.  Now consider the singular value decomposition (SVD) $\\boldsymbol{A} = \\boldsymbol{U} \\boldsymbol{S} \\boldsymbol{V}^T$"
   ]
  },
  {
   "cell_type": "markdown",
   "metadata": {},
   "source": [
    "a) If the full SVD is computed, find the dimensions of $\\boldsymbol{U}, \\boldsymbol{S}$, and $\\boldsymbol{V}$."
   ]
  },
  {
   "cell_type": "markdown",
   "metadata": {},
   "source": [
    "b) Find the dimensions of $\\boldsymbol{U}, \\boldsymbol{S}$, and $\\boldsymbol{V}$ in the economy or skinny SVD of $\\boldsymbol{A}$."
   ]
  },
  {
   "cell_type": "markdown",
   "metadata": {},
   "source": [
    "c) The Python and NumPy command `U, s, VT = np.linalg.svd(A, full_matrices=True)` computes the singular value decomposition, $\\boldsymbol{A} = \\boldsymbol{U} \\boldsymbol{S} \\boldsymbol{V}^T$ where $\\boldsymbol{U}$ and $\\boldsymbol{V}$ are matrices with orthonormal columns comprising the left and right singular vectors and $\\boldsymbol{S}$ is a diagonal matrix of singular values.   \n",
    "\n",
    "i. Compute the SVD of $\\boldsymbol{A}$.  Make sure $\\boldsymbol{A} = \\boldsymbol{U} \\boldsymbol{S} \\boldsymbol{V}^T$ holds.\n",
    "\n",
    "ii. Find $\\boldsymbol{U}^T\\boldsymbol{U}$ and $\\boldsymbol{V}^T\\boldsymbol{V}$.  Are the columns of $\\boldsymbol{U}$ and $\\boldsymbol{V}$ orthonormal? Why? *Hint:* compute $\\boldsymbol{U}^T\\boldsymbol{U}$.\n",
    "\n",
    "iii. Find $\\boldsymbol{U}\\boldsymbol{U}^T$ and $\\boldsymbol{V}\\boldsymbol{V}^T$.  Are the rows of $\\boldsymbol{U}$ and $\\boldsymbol{V}$ orthonormal? Why?\n",
    "\n",
    "iv. Find the left and right singular vectors associated with the largest singular value.\n",
    "\n",
    "v. What is the rank of $\\boldsymbol{A}$?"
   ]
  },
  {
   "cell_type": "code",
   "execution_count": null,
   "metadata": {},
   "outputs": [],
   "source": [
    "# Problem 2a #\n",
    "\n",
    "# A is m x n = 4 x 6\n",
    "\n",
    "# U will be an m x m orthogonal matrix\n",
    "# U will be 4 x 4 orthogonal matrix\n",
    "\n",
    "# S will be an m x n diagonal matrix\n",
    "# S will be a 4 x 6 diagonal matrix\n",
    "\n",
    "# V^T will be an n x n orthogonal matrix\n",
    "# V^T will be 6 x 6"
   ]
  },
  {
   "cell_type": "code",
   "execution_count": null,
   "metadata": {},
   "outputs": [],
   "source": [
    "# Problem 2b #\n",
    "\n",
    "# For skinny SVD case:\n",
    "\n",
    "# A is still m x n = 4 x 6\n",
    "\n",
    "# U will be an m x k matrix, where k=rank(A)\n",
    "# k=rank(A)=2\n",
    "# U will be an m x 2 = 4 x 2 matrix\n",
    "\n",
    "# S will be a k x k diagonal matrix ()\n",
    "# S will be a 2 x 2 diagonal matrix\n",
    "\n",
    "# V^T will be a k x n matrix\n",
    "# V^T will be a 2 x 6 matrix, and V will be a 6 x 2."
   ]
  },
  {
   "cell_type": "code",
   "execution_count": 49,
   "metadata": {},
   "outputs": [
    {
     "name": "stdout",
     "output_type": "stream",
     "text": [
      "[[3.00 3.00 3.00 -1.00 -1.00 -1.00]\n",
      " [1.00 1.00 1.00 -3.00 -3.00 -3.00]\n",
      " [1.00 1.00 1.00 -3.00 -3.00 -3.00]\n",
      " [3.00 3.00 3.00 -1.00 -1.00 -1.00]]\n",
      "[[3.00 3.00 3.00 -1.00 -1.00 -1.00]\n",
      " [1.00 1.00 1.00 -3.00 -3.00 -3.00]\n",
      " [1.00 1.00 1.00 -3.00 -3.00 -3.00]\n",
      " [3.00 3.00 3.00 -1.00 -1.00 -1.00]]\n"
     ]
    },
    {
     "data": {
      "text/plain": [
       "array([[-0.00, 0.00, 0.00, 0.00, 0.00, 0.00],\n",
       "       [0.00, 0.00, -0.00, 0.00, 0.00, 0.00],\n",
       "       [0.00, 0.00, -0.00, 0.00, 0.00, 0.00],\n",
       "       [0.00, 0.00, 0.00, 0.00, 0.00, 0.00]])"
      ]
     },
     "execution_count": 49,
     "metadata": {},
     "output_type": "execute_result"
    }
   ],
   "source": [
    "# Problem 2c #\n",
    "\n",
    "# i) \n",
    "U_full, s_full, VT_full = np.linalg.svd(A, full_matrices=True)\n",
    "S_matrix_full = np.zeros_like(A) ## Fill in the blank: Size of S should be equal to size of ???\n",
    "np.fill_diagonal(S_matrix_full, s_full) ## Fill in the diagonal entries of S_matrix with ???\n",
    "print(U_full@S_matrix_full@VT_full)\n",
    "print(A)\n",
    "\n",
    "A - U_full@S_matrix_full@VT_full\n",
    "# So A = U*S*V^T"
   ]
  },
  {
   "cell_type": "code",
   "execution_count": 50,
   "metadata": {},
   "outputs": [
    {
     "name": "stdout",
     "output_type": "stream",
     "text": [
      "UTU: \n",
      " [[1.00 0.00 0.00 -0.00]\n",
      " [0.00 1.00 -0.00 0.00]\n",
      " [0.00 -0.00 1.00 0.00]\n",
      " [-0.00 0.00 0.00 1.00]]\n",
      "VTV: \n",
      " [[1.00 -0.00 -0.00 0.00 -0.00 -0.00]\n",
      " [-0.00 1.00 0.00 0.00 0.00 -0.00]\n",
      " [-0.00 0.00 1.00 0.00 -0.00 -0.00]\n",
      " [0.00 0.00 0.00 1.00 -0.00 -0.00]\n",
      " [-0.00 0.00 -0.00 -0.00 1.00 -0.00]\n",
      " [-0.00 -0.00 -0.00 -0.00 -0.00 1.00]]\n",
      "UUT: \n",
      " [[1.00 0.00 -0.00 0.00]\n",
      " [0.00 1.00 0.00 0.00]\n",
      " [-0.00 0.00 1.00 0.00]\n",
      " [0.00 0.00 0.00 1.00]]\n",
      "VVT: \n",
      " [[1.00 -0.00 -0.00 -0.00 0.00 0.00]\n",
      " [-0.00 1.00 0.00 0.00 0.00 0.00]\n",
      " [-0.00 0.00 1.00 0.00 0.00 0.00]\n",
      " [-0.00 0.00 0.00 1.00 0.00 0.00]\n",
      " [0.00 0.00 0.00 0.00 1.00 0.00]\n",
      " [0.00 0.00 0.00 0.00 0.00 1.00]]\n",
      "First left singular vector: \n",
      " [[0.50]\n",
      " [0.50]\n",
      " [0.50]\n",
      " [0.50]]\n",
      "Largest singular value: 9.79795897113271\n",
      "2\n"
     ]
    }
   ],
   "source": [
    "# ii)\n",
    "print('UTU: \\n', U_full.T@U_full) # i. Printing U^T*U\n",
    "print('VTV: \\n', VT_full@VT_full.T) # i. Printing V^T*V\n",
    "# Comment: cols of U are orthonormal because U^T U = I\n",
    "# Comment: cols of V are orthonormal because V^T V = I\n",
    "\n",
    "# iii)\n",
    "print('UUT: \\n', U_full@U_full.T) # i. Printing U*U^T\n",
    "print('VVT: \\n', VT_full.T@VT_full) # i. Printing V*V^T\n",
    "# Comment: rows of U are orthonormal because U U^T = I\n",
    "# Comment: rows of V are orthonormal because V V^T = I\n",
    "\n",
    "# iv) \n",
    "print('First left singular vector: \\n', U[:,[0]])\n",
    "print('Largest singular value:', s[0])\n",
    "\n",
    "# v)\n",
    "print(np.sum(np.abs(s)>1e-6))"
   ]
  },
  {
   "cell_type": "markdown",
   "metadata": {},
   "source": [
    "d) The Python and NumPy command `U, s, VT = np.linalg.svd(A, full_matrices=False)` computes the economy or skinny singular value decomposition, $\\boldsymbol{A} = \\boldsymbol{U} \\boldsymbol{S} \\boldsymbol{V}^T$ where $\\boldsymbol{U}$ and $\\boldsymbol{V}$ are matrices with orthonormal columns comprising the left and right singular vectors and $\\boldsymbol{S}$ is a square diagonal matrix of singular values.   \n",
    "\n",
    "i. Compute the SVD of $\\boldsymbol{A}$.  Make sure $\\boldsymbol{A} = \\boldsymbol{U} \\boldsymbol{S} \\boldsymbol{V}^T$ holds.\n",
    "\n",
    "ii. Find $\\boldsymbol{U}^T\\boldsymbol{U}$ and $\\boldsymbol{V}^T\\boldsymbol{V}$.  Are the columns of $\\boldsymbol{U}$ and $\\boldsymbol{V}$ orthonormal? Why? *Hint:* compute $\\boldsymbol{U}^T\\boldsymbol{U}$.\n",
    "\n",
    "iii. Find $\\boldsymbol{U}\\boldsymbol{U}^T$ and $\\boldsymbol{V}\\boldsymbol{V}^T$.  Are the rows of $\\boldsymbol{U}$ and $\\boldsymbol{V}$ orthonormal? Why?"
   ]
  },
  {
   "cell_type": "code",
   "execution_count": 51,
   "metadata": {},
   "outputs": [
    {
     "name": "stdout",
     "output_type": "stream",
     "text": [
      "[[3.00 3.00 3.00 -1.00 -1.00 -1.00]\n",
      " [1.00 1.00 1.00 -3.00 -3.00 -3.00]\n",
      " [1.00 1.00 1.00 -3.00 -3.00 -3.00]\n",
      " [3.00 3.00 3.00 -1.00 -1.00 -1.00]]\n",
      "[[3.00 3.00 3.00 -1.00 -1.00 -1.00]\n",
      " [1.00 1.00 1.00 -3.00 -3.00 -3.00]\n",
      " [1.00 1.00 1.00 -3.00 -3.00 -3.00]\n",
      " [3.00 3.00 3.00 -1.00 -1.00 -1.00]]\n"
     ]
    }
   ],
   "source": [
    "# i) \n",
    "U_small, s_small, VT_small = np.linalg.svd(A, full_matrices=False)\n",
    "S_matrix_small = np.diag(s_small)\n",
    "print(U_small@S_matrix@VT_small)\n",
    "print(A)"
   ]
  },
  {
   "cell_type": "code",
   "execution_count": 52,
   "metadata": {},
   "outputs": [
    {
     "name": "stdout",
     "output_type": "stream",
     "text": [
      "UTU: \n",
      " [[1.00 0.00 0.00 -0.00]\n",
      " [0.00 1.00 -0.00 0.00]\n",
      " [0.00 -0.00 1.00 0.00]\n",
      " [-0.00 0.00 0.00 1.00]]\n",
      "VTV: \n",
      " [[1.00 -0.00 -0.00 0.00]\n",
      " [-0.00 1.00 0.00 0.00]\n",
      " [-0.00 0.00 1.00 0.00]\n",
      " [0.00 0.00 0.00 1.00]]\n",
      "UUT: \n",
      " [[1.00 0.00 -0.00 0.00]\n",
      " [0.00 1.00 0.00 0.00]\n",
      " [-0.00 0.00 1.00 0.00]\n",
      " [0.00 0.00 0.00 1.00]]\n",
      "VVT: \n",
      " [[1.00 -0.00 -0.00 0.00 0.00 0.00]\n",
      " [-0.00 1.00 0.00 0.00 0.00 0.00]\n",
      " [-0.00 0.00 1.00 0.00 0.00 0.00]\n",
      " [0.00 0.00 0.00 0.33 0.33 0.33]\n",
      " [0.00 0.00 0.00 0.33 0.33 0.33]\n",
      " [0.00 0.00 0.00 0.33 0.33 0.33]]\n"
     ]
    }
   ],
   "source": [
    "# ii)\n",
    "print('UTU: \\n', U_small.T@U_small) # i. Printing U^T*U\n",
    "print('VTV: \\n', VT_small@VT_small.T) # i. Printing V^T*V\n",
    "# Comment: cols of U are orthonormal because U^T U = I\n",
    "# Comment: cols of V are orthonormal because V^T V = I\n",
    "\n",
    "# iii)\n",
    "print('UUT: \\n', U_small@U_small.T) # i. Printing U*U^T\n",
    "print('VVT: \\n', VT_small.T@VT_small) # i. Printing V*V^T\n",
    "# Comment: rows of U are orthonormal because U U^T = I\n",
    "# Comment: rows of V are NOT orthonormal because V V^T =/= I"
   ]
  },
  {
   "cell_type": "markdown",
   "metadata": {},
   "source": [
    "e) Compare the singular vectors and singular values of the economy and full SVD.  How do they differ?\n"
   ]
  },
  {
   "cell_type": "code",
   "execution_count": 53,
   "metadata": {},
   "outputs": [
    {
     "name": "stdout",
     "output_type": "stream",
     "text": [
      "[9.80 4.90 0.00 0.00]\n",
      "[[9.80 0.00 0.00 0.00]\n",
      " [0.00 4.90 0.00 0.00]\n",
      " [0.00 0.00 0.00 0.00]\n",
      " [0.00 0.00 0.00 0.00]]\n",
      "[9.80 4.90 0.00 0.00]\n",
      "[[9.80 0.00 0.00 0.00 0.00 0.00]\n",
      " [0.00 4.90 0.00 0.00 0.00 0.00]\n",
      " [0.00 0.00 0.00 0.00 0.00 0.00]\n",
      " [0.00 0.00 0.00 0.00 0.00 0.00]]\n"
     ]
    }
   ],
   "source": [
    "print(s_small)\n",
    "print(S_matrix_small)\n",
    "print(s_full)\n",
    "print(S_matrix_full)\n",
    "\n",
    "# The full matrix has larger dimensions but is filled with more 0s"
   ]
  },
  {
   "cell_type": "markdown",
   "metadata": {},
   "source": [
    "f) Identify an orthonormal basis for the space spanned by the columns of $\\boldsymbol{A}$."
   ]
  },
  {
   "cell_type": "code",
   "execution_count": 58,
   "metadata": {},
   "outputs": [
    {
     "data": {
      "text/plain": [
       "array([[0.50, 0.50],\n",
       "       [0.50, -0.50],\n",
       "       [0.50, -0.50],\n",
       "       [0.50, 0.50]])"
      ]
     },
     "execution_count": 58,
     "metadata": {},
     "output_type": "execute_result"
    }
   ],
   "source": [
    "# The first k (rank A) columns of the matrix U from the SVD represent \n",
    "# an orthonomral basis for the column space of A.\n",
    "orthonormal_basis_cols = U_full[:,:np.linalg.matrix_rank(A)]\n",
    "orthonormal_basis_cols"
   ]
  },
  {
   "cell_type": "markdown",
   "metadata": {},
   "source": [
    "g) Identify an orthonormal basis for the space spanned by the rows of $\\boldsymbol{A}$."
   ]
  },
  {
   "cell_type": "code",
   "execution_count": 60,
   "metadata": {},
   "outputs": [
    {
     "data": {
      "text/plain": [
       "array([[0.41, 0.41, 0.41, -0.41, -0.41, -0.41],\n",
       "       [0.41, 0.41, 0.41, 0.41, 0.41, 0.41]])"
      ]
     },
     "execution_count": 60,
     "metadata": {},
     "output_type": "execute_result"
    }
   ],
   "source": [
    "# The first k (rank A) rows of the matrix V^T from the SVD represent\n",
    "# an orthonormal basis for the row space of A.\n",
    "orthonormal_basis_rows = VT_full[:np.linalg.matrix_rank(A), :]\n",
    "orthonormal_basis_rows\n"
   ]
  },
  {
   "cell_type": "markdown",
   "metadata": {},
   "source": [
    "h) Define the rank-$r$ approximation to $\\boldsymbol{A}$ as $\\boldsymbol{A}_r = \\sum_{i=1}^r \\sigma_i \\boldsymbol{u}_i \\boldsymbol{v}_i^T$ where $\\sigma_i$ is the ith singular value with left singular vector $\\boldsymbol{u}_i$ and right singular vector $\\boldsymbol{v}_i$.\n",
    "\n",
    "i. Find the rank-1 approximation $\\boldsymbol{A}_1$.  How does $\\boldsymbol{A}_1$ compare to $\\boldsymbol{A}$?\n",
    "\n",
    "ii. Find the rank-2 approximation $\\boldsymbol{A}_2$.  How does $\\boldsymbol{A}_2$ compare to $\\boldsymbol{A}$?"
   ]
  },
  {
   "cell_type": "code",
   "execution_count": 69,
   "metadata": {},
   "outputs": [
    {
     "name": "stdout",
     "output_type": "stream",
     "text": [
      "A1: [[2.00 2.00 2.00 -2.00 -2.00 -2.00]\n",
      " [2.00 2.00 2.00 -2.00 -2.00 -2.00]\n",
      " [2.00 2.00 2.00 -2.00 -2.00 -2.00]\n",
      " [2.00 2.00 2.00 -2.00 -2.00 -2.00]]\n",
      "Frob norm diff: 4.898979485566356\n",
      "A2: [[3.00 3.00 3.00 -1.00 -1.00 -1.00]\n",
      " [1.00 1.00 1.00 -3.00 -3.00 -3.00]\n",
      " [1.00 1.00 1.00 -3.00 -3.00 -3.00]\n",
      " [3.00 3.00 3.00 -1.00 -1.00 -1.00]]\n",
      "Frob norm diff: 8.021313332746002e-15\n"
     ]
    }
   ],
   "source": [
    "U, S, Vt = np.linalg.svd(A, full_matrices=False)\n",
    "\n",
    "# Rank-1 approximation\n",
    "A1 = S[0] * np.outer(U[:, 0], Vt[0, :])\n",
    "print(f\"A1: {A1}\")\n",
    "print(f\"Frob norm diff: {np.linalg.norm(A - A1, 'fro')}\")\n",
    "\n",
    "\n",
    "# Rank-2 approximation\n",
    "A2 = A1 + S[1] * np.outer(U[:, 1], Vt[1, :])\n",
    "print(f\"A2: {A2}\")\n",
    "print(f\"Frob norm diff: {np.linalg.norm(A - A2, 'fro')}\")\n",
    "\n",
    "# A2 is just A because again, rank(A) = 2"
   ]
  },
  {
   "cell_type": "code",
   "execution_count": 70,
   "metadata": {},
   "outputs": [
    {
     "name": "stdout",
     "output_type": "stream",
     "text": [
      "Economy SVD U:\n",
      "[[0.50 0.50 -0.71 -0.01]\n",
      " [0.50 -0.50 0.01 -0.71]\n",
      " [0.50 -0.50 -0.01 0.71]\n",
      " [0.50 0.50 0.71 0.01]]\n",
      "\n",
      "Economy SVD S:\n",
      "[[9.80 0.00 0.00 0.00]\n",
      " [0.00 4.90 0.00 0.00]\n",
      " [0.00 0.00 0.00 0.00]\n",
      " [0.00 0.00 0.00 0.00]]\n",
      "\n",
      "Economy SVD V^T:\n",
      "[[0.41 0.41 0.41 -0.41 -0.41 -0.41]\n",
      " [0.41 0.41 0.41 0.41 0.41 0.41]\n",
      " [-0.82 0.38 0.44 0.00 0.00 0.00]\n",
      " [-0.03 0.72 -0.69 -0.00 -0.00 -0.00]]\n"
     ]
    }
   ],
   "source": [
    "# (i): The economy SVD is based on the dimension of the matrices\n",
    "# and does not consider the rank of the matrix. \n",
    "# What is the smallest economy SVD \n",
    "# (minimum dimension of the square matrix S) possible for the matrix A?\n",
    "# Find U,S, and V for this minimal economy SVD.\n",
    "\n",
    "# Comment: the smallest economy SVD possible for the matrix A (4x6):\n",
    "# U: 4x4\n",
    "# S: 4x4\n",
    "# V^T: 6x6\n",
    "\n",
    "# Compute the economy SVD of A\n",
    "U, S, Vt = np.linalg.svd(A, full_matrices=False)\n",
    "\n",
    "print(\"Economy SVD U:\")\n",
    "print(U)\n",
    "\n",
    "print(\"\\nEconomy SVD S:\")\n",
    "print(np.diag(S))\n",
    "\n",
    "print(\"\\nEconomy SVD V^T:\")\n",
    "print(Vt)"
   ]
  },
  {
   "cell_type": "code",
   "execution_count": 62,
   "metadata": {},
   "outputs": [
    {
     "data": {
      "text/plain": [
       "Text(0.5, 1.0, 'Original matrix')"
      ]
     },
     "execution_count": 62,
     "metadata": {},
     "output_type": "execute_result"
    },
    {
     "data": {
      "image/png": "[encoded data removed]",
      "text/plain": [
       "<Figure size 640x480 with 1 Axes>"
      ]
     },
     "metadata": {},
     "output_type": "display_data"
    }
   ],
   "source": [
    "## display the original matrix using a heatmap \n",
    "plt.figure(num=None)\n",
    "for (j,i),label in np.ndenumerate(A):\n",
    "    plt.text(i,j,np.round(label,1),ha='center',va='center')\n",
    "plt.imshow(A, vmin=-5, vmax=5, interpolation='none', cmap='gray')\n",
    "plt.title('Original matrix' )"
   ]
  },
  {
   "cell_type": "code",
   "execution_count": null,
   "metadata": {},
   "outputs": [],
   "source": [
    "## display the rank-r approximations using a heatmap\n",
    "for r in range(1,3):\n",
    "    ## Fill in the blank: choose the first r colummns of U, first r singular values, etc...\n",
    "    A_rank_r_approx = U[:,2]@S_matrix[???,???]@VT[???,:] \n",
    "    plt.figure(num=None)\n",
    "    for (j,i),label in np.ndenumerate(A_rank_r_approx):\n",
    "        plt.text(i,j,np.round(label,1),ha='center',va='center')\n",
    "    plt.imshow(A_rank_r_approx, vmin=-10, vmax=10, interpolation='none', cmap='gray')\n",
    "    plt.title('rank ' + str(r) + ' approximation'  ) "
   ]
  },
  {
   "cell_type": "markdown",
   "metadata": {},
   "source": [
    "i) The economy SVD is based on the dimension of the matrices and does not consider the rank of the matrix.   What is the smallest economy SVD (minimum dimension of the square matrix $\\boldsymbol{S}$) possible for the matrix $\\boldsymbol{A}$?  Find $\\boldsymbol{U}, \\boldsymbol{S}$, and $\\boldsymbol{V}$ for this minimal economy SVD."
   ]
  }
 ],
 "metadata": {
  "kernelspec": {
   "display_name": "Python 3 (ipykernel)",
   "language": "python",
   "name": "python3"
  },
  "language_info": {
   "codemirror_mode": {
    "name": "ipython",
    "version": 3
   },
   "file_extension": ".py",
   "mimetype": "text/x-python",
   "name": "python",
   "nbconvert_exporter": "python",
   "pygments_lexer": "ipython3",
   "version": "3.11.4"
  }
 },
 "nbformat": 4,
 "nbformat_minor": 2
}
