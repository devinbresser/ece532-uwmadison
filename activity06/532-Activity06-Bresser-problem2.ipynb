{
 "cells": [
  {
   "cell_type": "code",
   "execution_count": 18,
   "metadata": {},
   "outputs": [],
   "source": [
    "import numpy as np\n",
    "A = np.array([[25,0,1],[20,1,2],[40,1,6]])\n",
    "b = np.array([[110],[110],[210]])\n",
    "\n",
    "# To see rank, use: \n",
    "# np.linalg.matrix_rank(A)\n",
    "\n",
    "# To invert a matrix, use:\n",
    "# np.linalg.inv(A)\n",
    "\n",
    "# To multiply matrices in Python 3, use:\n",
    "# A@B"
   ]
  },
  {
   "cell_type": "code",
   "execution_count": 19,
   "metadata": {},
   "outputs": [
    {
     "data": {
      "text/plain": [
       "array([[ 4.25],\n",
       "       [17.5 ],\n",
       "       [ 3.75]])"
      ]
     },
     "execution_count": 19,
     "metadata": {},
     "output_type": "execute_result"
    }
   ],
   "source": [
    "# Problem 2a.)\n",
    "\n",
    "np.linalg.inv(A)@b\n",
    "\n",
    "# The array does not agree with the known values."
   ]
  },
  {
   "cell_type": "code",
   "execution_count": 54,
   "metadata": {},
   "outputs": [
    {
     "name": "stdout",
     "output_type": "stream",
     "text": [
      "4\n"
     ]
    }
   ],
   "source": [
    "import numpy as np\n",
    "A = np.array([[25,15,10,0,1],[20,12,8,1,2],[40,30,10,1,6], [30,15,15,0,3], [35,20,15,2,4]])\n",
    "b = np.array([[104],[97],[193],[132],[174]])\n",
    "\n",
    "print(np.linalg.matrix_rank(A))\n",
    "\n",
    "# Note: you can use np.hstack() to concatinate vectors, for example np.hstack((A,b))\n",
    "\n",
    "# Note: you can select all the columns, except the first of a matrix A as:  A[:,1:]"
   ]
  },
  {
   "cell_type": "code",
   "execution_count": 56,
   "metadata": {},
   "outputs": [
    {
     "name": "stdout",
     "output_type": "stream",
     "text": [
      "Rank of a with b appended: 4\n",
      "new rank without 1st col: 4\n",
      "[[4.]\n",
      " [4.]\n",
      " [9.]\n",
      " [4.]]\n",
      "[[-1.70530257e-13]\n",
      " [-1.56319402e-13]\n",
      " [ 0.00000000e+00]\n",
      " [ 8.52651283e-14]\n",
      " [-2.27373675e-13]]\n"
     ]
    }
   ],
   "source": [
    "# Problem 2b.)\n",
    "\n",
    "Awithb = np.hstack((A,b))\n",
    "print(f\"Rank of a with b appended: {np.linalg.matrix_rank(Awithb)}\")\n",
    "\n",
    "# i. rank(A) = 4\n",
    "#    rank(A | b) = 4\n",
    "#    because rank(A) = rank(A | b), b does lie within the span of A. \n",
    "#    So at least one exact solution does exist.\n",
    "\n",
    "# ii. rank(A) = 4\n",
    "#     dim(x) = 5\n",
    "#     More items in x than linearly independent equations.\n",
    "#     Underdetermined system, infinitely many solutions.\n",
    "\n",
    "# iii. \n",
    "\n",
    "Awithout1stcol = A[:,1:]\n",
    "print(f\"new rank without 1st col: {np.linalg.matrix_rank(Awithout1stcol)}\")\n",
    "# So this new matrix without the 1st column is rank 4\n",
    "# but the x-vector is dimension 4 now.\n",
    "\n",
    "np.linalg.matrix_rank(np.hstack((Awithout1stcol,b)))\n",
    "# Before: 5x5, 5x1 = 5x1\n",
    "# After removing 1st col: 5x4, 4x1 = 5x1\n",
    "\n",
    "# So there is now a single unique solution now\n",
    "# Cannot simply multiply A^-1 to both sides since Awithout1stcol is nonsquare\n",
    "# Use transpose method\n",
    "\n",
    "Awithout1stcol_transpose = np.matrix.transpose(Awithout1stcol)\n",
    "inverse = np.linalg.inv(Awithout1stcol_transpose @ Awithout1stcol)\n",
    "x =  inverse @ Awithout1stcol_transpose @ b\n",
    "print(x)\n",
    "\n",
    "# The squared error will be zero since b is within span(A).\n",
    "print(b-Awithout1stcol@x)\n",
    "\n",
    "# A bunch of floating point errors if I had to guess"
   ]
  },
  {
   "cell_type": "code",
   "execution_count": null,
   "metadata": {},
   "outputs": [],
   "source": []
  },
  {
   "cell_type": "code",
   "execution_count": null,
   "metadata": {},
   "outputs": [],
   "source": []
  }
 ],
 "metadata": {
  "kernelspec": {
   "display_name": "Python 3 (ipykernel)",
   "language": "python",
   "name": "python3"
  },
  "language_info": {
   "codemirror_mode": {
    "name": "ipython",
    "version": 3
   },
   "file_extension": ".py",
   "mimetype": "text/x-python",
   "name": "python",
   "nbconvert_exporter": "python",
   "pygments_lexer": "ipython3",
   "version": "3.11.4"
  }
 },
 "nbformat": 4,
 "nbformat_minor": 2
}
