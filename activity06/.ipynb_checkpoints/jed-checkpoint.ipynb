{
 "cells": [
  {
   "cell_type": "code",
   "execution_count": null,
   "metadata": {
    "colab": {
     "base_uri": "https://localhost:8080/"
    },
    "executionInfo": {
     "elapsed": 392,
     "status": "ok",
     "timestamp": 1695745765368,
     "user": {
      "displayName": "Jed Pulley",
      "userId": "15408842819200178725"
     },
     "user_tz": 300
    },
    "id": "TZi2MOjyRecg",
    "outputId": "e60334cd-1bde-47ae-b6b4-02cefc1ac778"
   },
   "outputs": [
    {
     "name": "stdout",
     "output_type": "stream",
     "text": [
      "[[ 4.25]\n",
      " [17.5 ]\n",
      " [ 3.75]]\n"
     ]
    }
   ],
   "source": [
    "import numpy as np\n",
    "A = np.array([[25,0,1],[20,1,2],[40,1,6]])\n",
    "b = np.array([[110],[110],[210]])\n",
    "\n",
    "# To see rank, use:\n",
    "# np.linalg.matrix_rank(A)\n",
    "\n",
    "# To invert a matrix, use:\n",
    "# np.linalg.inv(A)\n",
    "\n",
    "# To multiply matrices in Python 3, use:\n",
    "# A@B\n",
    "\n",
    "Atrans = np.matrix.transpose(A)\n",
    "inv = np.linalg.inv(Atrans @ A)\n",
    "x =  inv @ Atrans @ b\n",
    "print(x)"
   ]
  },
  {
   "cell_type": "code",
   "execution_count": null,
   "metadata": {
    "colab": {
     "base_uri": "https://localhost:8080/"
    },
    "executionInfo": {
     "elapsed": 138,
     "status": "ok",
     "timestamp": 1695748843048,
     "user": {
      "displayName": "Jed Pulley",
      "userId": "15408842819200178725"
     },
     "user_tz": 300
    },
    "id": "TcsJHbf9Recm",
    "outputId": "0ace8f89-39b2-422f-d01a-1901b4160d07"
   },
   "outputs": [
    {
     "name": "stdout",
     "output_type": "stream",
     "text": [
      "Rank of A: 4\n",
      "[[4.]\n",
      " [4.]\n",
      " [9.]\n",
      " [4.]]\n",
      "[[-9.94759830e-14]\n",
      " [-1.42108547e-13]\n",
      " [-2.84217094e-13]\n",
      " [ 0.00000000e+00]\n",
      " [-2.55795385e-13]]\n"
     ]
    }
   ],
   "source": [
    "import numpy as np\n",
    "A = np.array([[25,15,10,0,1],[20,12,8,1,2],[40,30,10,1,6], [30,15,15,0,3], [35,20,15,2,4]])\n",
    "b = np.array([[104],[97],[193],[132],[174]])\n",
    "\n",
    "# print(f\"Rank of A: {np.linalg.matrix_rank(A)}\")\n",
    "# Atrans = np.matrix.transpose(A)\n",
    "# inv = np.linalg.inv(Atrans @ A)\n",
    "# x =  inv @ Atrans @ b\n",
    "\n",
    "\n",
    "# Note: you can use np.hstack() to concatinate vectors, for example np.hstack((A,b))\n",
    "AadjB = np.hstack((A, b))\n",
    "# print(f\"Rank of A ajdoined with B: {np.linalg.matrix_rank(AadjB)}\")\n",
    "\n",
    "# Note: you can select all the columns, except the first of a matrix A as:  A[:,1:]\n",
    "Atrimmed = A[:,1:]\n",
    "print(f\"Rank of A: {np.linalg.matrix_rank(Atrimmed)}\")\n",
    "Atrans = np.matrix.transpose(Atrimmed)\n",
    "inv = np.linalg.inv(Atrans @ Atrimmed)\n",
    "x =  inv @ Atrans @ b\n",
    "print(x)\n",
    "print(b - Atrimmed@x)\n"
   ]
  },
  {
   "cell_type": "code",
   "execution_count": null,
   "metadata": {
    "id": "trO4FCNgRecn"
   },
   "outputs": [],
   "source": [
    "import numpy as np\n",
    "A = np.array([[25,0,1],[20,1,2],[40,1,6]])\n",
    "b = np.array([[110],[110],[210]])"
   ]
  }
 ],
 "metadata": {
  "colab": {
   "provenance": []
  },
  "kernelspec": {
   "display_name": "Python 3 (ipykernel)",
   "language": "python",
   "name": "python3"
  },
  "language_info": {
   "codemirror_mode": {
    "name": "ipython",
    "version": 3
   },
   "file_extension": ".py",
   "mimetype": "text/x-python",
   "name": "python",
   "nbconvert_exporter": "python",
   "pygments_lexer": "ipython3",
   "version": "3.11.4"
  }
 },
 "nbformat": 4,
 "nbformat_minor": 1
}
