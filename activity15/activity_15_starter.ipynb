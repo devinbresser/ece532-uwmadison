{
 "cells": [
  {
   "cell_type": "code",
   "execution_count": 1,
   "metadata": {},
   "outputs": [],
   "source": [
    "import numpy as np\n",
    "from scipy.io import loadmat"
   ]
  },
  {
   "cell_type": "markdown",
   "metadata": {},
   "source": [
    "---\n",
    "# Question 2\n",
    "---"
   ]
  },
  {
   "cell_type": "code",
   "execution_count": 24,
   "metadata": {},
   "outputs": [],
   "source": [
    "Xtrue = loadmat(\"incomplete.mat\")[\"Xtrue\"]\n",
    "Y1 = loadmat(\"incomplete.mat\")[\"Y1\"]\n",
    "Y2 = loadmat(\"incomplete.mat\")[\"Y2\"]\n",
    "Y3 = loadmat(\"incomplete.mat\")[\"Y3\"]"
   ]
  },
  {
   "cell_type": "code",
   "execution_count": 61,
   "metadata": {},
   "outputs": [],
   "source": [
    "def ItSingValThresh(Y, r):\n",
    "    \"\"\"\n",
    "    Iterative Singular Value Thresholding function for Matrix Completion\n",
    "    \"\"\"\n",
    "    tol = 10**(-3)  # difference between iterates at termination\n",
    "    max_its = 100;\n",
    "    n,p = Y.shape \n",
    "    X = np.array(Y) #make a copy so operations do not mutate the original\n",
    "    X[np.isnan(X)] = 0 # Fill in missing entries with zeros\n",
    "\n",
    "    err = 10**6 \n",
    "    itt = 0\n",
    "    \n",
    "    while err > tol and itt < max_its:\n",
    "        U,s,VT = np.linalg.svd(X, full_matrices=False)\n",
    "        V, S = VT.T, np.diag(s)\n",
    "        Xnew = U[:,:r] @ S[:r,:r] @ VT[:r,:]\n",
    "        for i in range(n):\n",
    "            for j in range(p):\n",
    "                if ~np.isnan(Y[i,j]):  #replace Xnew with known entries\n",
    "                    Xnew[i,j] = Y[i,j]\n",
    "        err = np.linalg.norm(X-Xnew,'fro') \n",
    "        X = Xnew\n",
    "        itt += 1\n",
    "    return X"
   ]
  },
  {
   "cell_type": "code",
   "execution_count": 74,
   "metadata": {},
   "outputs": [
    {
     "name": "stdout",
     "output_type": "stream",
     "text": [
      "[87.24667705099746, 0.0047355995274097045, 0.0007153218655240741]\n",
      "Num zeros:\n",
      " 136 76 16\n"
     ]
    }
   ],
   "source": [
    "# Problem 2a\n",
    "\n",
    "# compute frobenius norm of errors\n",
    "errors = []\n",
    "for item in [Y1, Y2, Y3]:\n",
    "    error = np.linalg.norm(Xtrue-ItSingValThresh(item,2),'fro')\n",
    "    errors.append(error)\n",
    "    \n",
    "print(errors)\n",
    "\n",
    "print(\"Num zeros:\\n\" ,np.count_nonzero(np.isnan(Y1)), np.count_nonzero(np.isnan(Y2)), np.count_nonzero(np.isnan(Y3)))\n",
    "\n",
    "# Comment: Yes, the number of missing entries impacts the accuracy \n",
    "# of the filled in matrix."
   ]
  },
  {
   "cell_type": "code",
   "execution_count": 75,
   "metadata": {
    "scrolled": true
   },
   "outputs": [
    {
     "name": "stdout",
     "output_type": "stream",
     "text": [
      "[128.77804846772054, 48.97940976510775, 20.785069891601793]\n"
     ]
    }
   ],
   "source": [
    "# Problem 2b\n",
    "\n",
    "# compute frobenius norm of errors\n",
    "errors2b = []\n",
    "for item in [Y1, Y2, Y3]:\n",
    "    error = np.linalg.norm(Xtrue-ItSingValThresh(item,3),'fro')\n",
    "    errors2b.append(error)\n",
    "    \n",
    "print(errors2b)\n",
    "\n",
    "# Comment: Using the incorrect rank causes the error to\n",
    "# substantially increase."
   ]
  },
  {
   "cell_type": "code",
   "execution_count": null,
   "metadata": {},
   "outputs": [],
   "source": []
  },
  {
   "cell_type": "code",
   "execution_count": null,
   "metadata": {},
   "outputs": [],
   "source": []
  }
 ],
 "metadata": {
  "kernelspec": {
   "display_name": "Python 3 (ipykernel)",
   "language": "python",
   "name": "python3"
  },
  "language_info": {
   "codemirror_mode": {
    "name": "ipython",
    "version": 3
   },
   "file_extension": ".py",
   "mimetype": "text/x-python",
   "name": "python",
   "nbconvert_exporter": "python",
   "pygments_lexer": "ipython3",
   "version": "3.11.4"
  }
 },
 "nbformat": 4,
 "nbformat_minor": 4
}
