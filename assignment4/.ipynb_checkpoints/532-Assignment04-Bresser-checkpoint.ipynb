{
 "cells": [
  {
   "cell_type": "code",
   "execution_count": 52,
   "id": "0de73be6",
   "metadata": {},
   "outputs": [],
   "source": [
    "import numpy as np\n",
    "from scipy.io import loadmat\n",
    "import matplotlib.pyplot as plt \n",
    "\n",
    "in_data = loadmat('face_emotion_data.mat')\n",
    "#loadmat() loads a matlab workspace into a python dictionary, where the names of the variables are the keys \n",
    "#in the dictionary.  To see what variables are loaded, uncomment the line below: \n",
    "#print([key for key in in_data])\n",
    "\n",
    "y = in_data['y']\n",
    "X = in_data['X']"
   ]
  },
  {
   "cell_type": "code",
   "execution_count": 43,
   "id": "2f341cd6",
   "metadata": {},
   "outputs": [
    {
     "data": {
      "text/plain": [
       "array([[ 0.94366942],\n",
       "       [ 0.21373778],\n",
       "       [ 0.26641775],\n",
       "       [-0.39221373],\n",
       "       [-0.00538552],\n",
       "       [-0.01764687],\n",
       "       [-0.16632809],\n",
       "       [-0.0822838 ],\n",
       "       [-0.16644364]])"
      ]
     },
     "execution_count": 43,
     "metadata": {},
     "output_type": "execute_result"
    }
   ],
   "source": [
    "### ECE 532 Assignment #4 - Devin Bresser ###\n",
    "\n",
    "# Problem 1a #\n",
    "# least squares solution to X w = y:\n",
    "# w_min = X (X^T X)^-1 X^T y\n",
    "# (the projection of y onto the space spanned by X)\n",
    "\n",
    "# X is m x n, m=128, n=9\n",
    "# (128 face images, 9 features)\n",
    "\n",
    "X_proj = np.linalg.inv(X.T @ X) @ X.T\n",
    "w_min = X_proj @ y\n",
    "w_min"
   ]
  },
  {
   "cell_type": "code",
   "execution_count": null,
   "id": "8e3439e9",
   "metadata": {},
   "outputs": [],
   "source": []
  }
 ],
 "metadata": {
  "kernelspec": {
   "display_name": "Python 3 (ipykernel)",
   "language": "python",
   "name": "python3"
  },
  "language_info": {
   "codemirror_mode": {
    "name": "ipython",
    "version": 3
   },
   "file_extension": ".py",
   "mimetype": "text/x-python",
   "name": "python",
   "nbconvert_exporter": "python",
   "pygments_lexer": "ipython3",
   "version": "3.11.4"
  }
 },
 "nbformat": 4,
 "nbformat_minor": 5
}
