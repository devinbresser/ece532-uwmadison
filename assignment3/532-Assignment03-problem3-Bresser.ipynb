{
 "cells": [
  {
   "cell_type": "code",
   "execution_count": 84,
   "id": "57107d09",
   "metadata": {},
   "outputs": [
    {
     "data": {
      "text/plain": [
       "array([[ 7,  4,  2,  8,  7,  4,  2],\n",
       "       [ 3,  9,  5,  6, 10,  5,  5],\n",
       "       [ 8,  4,  3,  7,  6,  4,  1],\n",
       "       [ 2,  9,  6,  5,  9,  5,  4],\n",
       "       [ 9,  4,  2,  8,  7,  4,  1]], dtype=uint8)"
      ]
     },
     "execution_count": 84,
     "metadata": {},
     "output_type": "execute_result"
    }
   ],
   "source": [
    "### Problem 3 Devin Bresser ###\n",
    "import numpy as np\n",
    "from scipy.io import loadmat\n",
    "import matplotlib.pyplot as plt \n",
    "\n",
    "in_data = loadmat('movie.mat')\n",
    "#loadmat() loads a matlab workspace into a python dictionary, where the names of the variables are the keys \n",
    "#in the dictionary.  To see what variables are loaded, uncomment the line below: \n",
    "#print([key for key in in_data])\n",
    "\n",
    "X1 = in_data['X']\n",
    "X = X1[:, [1, 0] + list(range(2, X.shape[1]))] # swap 1st and 2nd columns\n",
    "X"
   ]
  },
  {
   "cell_type": "code",
   "execution_count": 75,
   "id": "397eca3a",
   "metadata": {},
   "outputs": [],
   "source": [
    "import numpy as np\n",
    "\n",
    "def gram_schmidt(B):\n",
    "    \"\"\"Orthogonalize a set of vectors stored as the columns of matrix B.\"\"\"\n",
    "    # Get the number of vectors.\n",
    "    m, n = B.shape\n",
    "    # Create new matrix to hold the orthonormal basis\n",
    "    U = np.zeros([m,n]) \n",
    "    for j in range(n):\n",
    "        # To orthogonalize the vector in column j with respect to the\n",
    "        # previous vectors, subtract from it its projection onto\n",
    "        # each of the previous vectors.\n",
    "        v = B[:,j].copy()\n",
    "        for k in range(j):\n",
    "            v -= np.dot(U[:, k], B[:, j]) * U[:, k]\n",
    "        if np.linalg.norm(v)>1e-10:\n",
    "            U[:, j] = v / np.linalg.norm(v)\n",
    "    return U\n",
    "\n",
    "# if __name__ == '__main__':\n",
    "#     B1 = np.array([[1.0, 1.0, 0.0], [2.0, 2.0, 0.0], [2.0, 2.0, 1.0]])\n",
    "#     A1 = gram_schmidt(B1)\n",
    "#     print(A1)\n",
    "#     A2 = gram_schmidt(np.random.rand(4,2)@np.random.rand(2,5))\n",
    "#     print(A2.transpose()@A2)"
   ]
  },
  {
   "cell_type": "code",
   "execution_count": 76,
   "id": "28dcce43",
   "metadata": {},
   "outputs": [
    {
     "data": {
      "text/plain": [
       "array([[ 1.,  7.,  4.,  2.,  8.,  7.,  4.,  2.],\n",
       "       [ 1.,  3.,  9.,  5.,  6., 10.,  5.,  5.],\n",
       "       [ 1.,  8.,  4.,  3.,  7.,  6.,  4.,  1.],\n",
       "       [ 1.,  2.,  9.,  6.,  5.,  9.,  5.,  4.],\n",
       "       [ 1.,  9.,  4.,  2.,  8.,  7.,  4.,  1.]])"
      ]
     },
     "execution_count": 76,
     "metadata": {},
     "output_type": "execute_result"
    }
   ],
   "source": [
    "# Problem 3a\n",
    "\n",
    "column_of_ones = np.ones((5,1))\n",
    "X_tilde = np.hstack((column_of_ones, X))\n",
    "X_tilde"
   ]
  },
  {
   "cell_type": "code",
   "execution_count": 77,
   "id": "df20e3e9",
   "metadata": {},
   "outputs": [
    {
     "name": "stdout",
     "output_type": "stream",
     "text": [
      "5\n",
      "[[ 4.47213595e-01  1.92648390e-01 -7.04428798e-01 -5.16397779e-01\n",
      "   0.00000000e+00  0.00000000e+00  0.00000000e+00  2.99760217e-14]\n",
      " [ 4.47213595e-01 -4.49512909e-01  4.44902399e-01 -3.87298335e-01\n",
      "   0.00000000e+00  0.00000000e+00  0.00000000e+00  5.00000000e-01]\n",
      " [ 4.47213595e-01  3.53188714e-01 -9.26879997e-02  6.45497224e-01\n",
      "   0.00000000e+00  0.00000000e+00  0.00000000e+00  5.00000000e-01]\n",
      " [ 4.47213595e-01 -6.10053234e-01 -1.66838399e-01  3.87298335e-01\n",
      "   0.00000000e+00  0.00000000e+00  0.00000000e+00 -5.00000000e-01]\n",
      " [ 4.47213595e-01  5.13729039e-01  5.19052798e-01 -1.29099445e-01\n",
      "   0.00000000e+00  0.00000000e+00  0.00000000e+00 -5.00000000e-01]]\n"
     ]
    }
   ],
   "source": [
    "T = gram_schmidt(X_tilde)\n",
    "print(np.linalg.matrix_rank(T))\n",
    "print(T)"
   ]
  },
  {
   "cell_type": "code",
   "execution_count": 78,
   "id": "8882cb88",
   "metadata": {},
   "outputs": [
    {
     "name": "stdout",
     "output_type": "stream",
     "text": [
      "0.4472135954999579\n"
     ]
    }
   ],
   "source": [
    "print(1/(5**0.5))\n",
    "\n",
    "# Problem 3a comment: Yes, the first column of T is equal to t_1 from before"
   ]
  },
  {
   "cell_type": "code",
   "execution_count": 79,
   "id": "c9491026",
   "metadata": {},
   "outputs": [
    {
     "name": "stdout",
     "output_type": "stream",
     "text": [
      "[[5.8 6.  3.6 6.8 7.8 4.4 2.6]\n",
      " [5.8 6.  3.6 6.8 7.8 4.4 2.6]\n",
      " [5.8 6.  3.6 6.8 7.8 4.4 2.6]\n",
      " [5.8 6.  3.6 6.8 7.8 4.4 2.6]\n",
      " [5.8 6.  3.6 6.8 7.8 4.4 2.6]] \n",
      "\n",
      " [[ 1.2 -2.  -1.6  1.2 -0.8 -0.4 -0.6]\n",
      " [-2.8  3.   1.4 -0.8  2.2  0.6  2.4]\n",
      " [ 2.2 -2.  -0.6  0.2 -1.8 -0.4 -1.6]\n",
      " [-3.8  3.   2.4 -1.8  1.2  0.6  1.4]\n",
      " [ 3.2 -2.  -1.6  1.2 -0.8 -0.4 -1.6]]\n",
      "mean of the rank 1 residual: 1.5657142857142856\n"
     ]
    }
   ],
   "source": [
    "# Problem 3b\n",
    "\n",
    "# from previous problem:\n",
    "# When T is an nxr matrix of orthonormal columns,\n",
    "# ||min_w x-Tw||^2 = T^T x\n",
    "\n",
    "# In this case, T is an n=5 x r=1 matrix\n",
    "# the solution ||min_w x-Tw||^2 is given by T^T x\n",
    "\n",
    "\n",
    "t_1 = T[:, 0].reshape(-1, 1) # define t_1 as the first column of T\n",
    "w_1 = t_1.T @ X # find minimum solution w_1\n",
    "X_rank1 = t_1 @ w_1 # find rank 1 approximation of X\n",
    "residual_rank1 = X - X_rank1\n",
    "print(X_rank1, \"\\n\\n\", residual_rank1)\n",
    "print(f\"mean of the rank 1 residual: {np.mean(np.abs((residual_rank1)))}\")\n"
   ]
  },
  {
   "cell_type": "code",
   "execution_count": 81,
   "id": "6f771901",
   "metadata": {},
   "outputs": [
    {
     "name": "stdout",
     "output_type": "stream",
     "text": [
      "[[7.         4.97938144 2.93814433 7.25773196 7.2371134  4.19587629\n",
      "  1.93814433]\n",
      " [3.         8.3814433  5.1443299  5.73195876 9.11340206 4.87628866\n",
      "  4.1443299 ]\n",
      " [8.         4.12886598 2.38659794 7.63917526 6.76804124 4.0257732\n",
      "  1.38659794]\n",
      " [2.         9.23195876 5.69587629 5.35051546 9.58247423 5.04639175\n",
      "  4.69587629]\n",
      " [9.         3.27835052 1.83505155 8.02061856 6.29896907 3.8556701\n",
      "  0.83505155]] \n",
      "\n",
      " [[ 0.00000000e+00 -9.79381443e-01 -9.38144330e-01  7.42268041e-01\n",
      "  -2.37113402e-01 -1.95876289e-01  6.18556701e-02]\n",
      " [ 8.88178420e-16  6.18556701e-01 -1.44329897e-01  2.68041237e-01\n",
      "   8.86597938e-01  1.23711340e-01  8.55670103e-01]\n",
      " [ 0.00000000e+00 -1.28865979e-01  6.13402062e-01 -6.39175258e-01\n",
      "  -7.68041237e-01 -2.57731959e-02 -3.86597938e-01]\n",
      " [ 6.66133815e-16 -2.31958763e-01  3.04123711e-01 -3.50515464e-01\n",
      "  -5.82474227e-01 -4.63917526e-02 -6.95876289e-01]\n",
      " [-1.77635684e-15  7.21649485e-01  1.64948454e-01 -2.06185567e-02\n",
      "   7.01030928e-01  1.44329897e-01  1.64948454e-01]]\n",
      "mean of the rank 2 residual: 0.3640648011782033\n"
     ]
    }
   ],
   "source": [
    "# Problem 3c\n",
    "\n",
    "t_2 = np.hstack((t_1,T[:, 1].reshape(-1,1))) # define t_2 as first 2 cols of T\n",
    "w_2 = t_2.T @ X # find minimum solution w_2\n",
    "X_rank2 = t_2 @ w_2 # find rank 2 approximation of X\n",
    "residual_rank2 = X - X_rank2\n",
    "print(X_rank2, \"\\n\\n\", residual_rank2)\n",
    "print(f\"mean of the rank 2 residual: {np.mean(np.abs((residual_rank2)))}\")\n",
    "\n",
    "# Problem 3c comment:\n",
    "# t_2 is comprised of two taste vectors\n",
    "# The first column is just the normalization vector to get the baseline\n",
    "# The second column (-0.37, 0.55, -0.37, 0.55, -0.37) represents a taste vector\n",
    "# that shows a dislike of sci-fi and preference for romance movies.\n",
    "\n",
    "# This approximation results in a pretty low residual matrix, so my conclusion\n",
    "# would be that the sci-fi/romance taste vector is very important to \n",
    "# explain the trends in X."
   ]
  },
  {
   "cell_type": "code",
   "execution_count": 83,
   "id": "3df9d086",
   "metadata": {},
   "outputs": [
    {
     "name": "stdout",
     "output_type": "stream",
     "text": [
      "[[7.         4.         2.53333333 7.46666667 6.46666667 4.\n",
      "  1.53333333]\n",
      " [3.         9.         5.4        5.6        9.6        5.\n",
      "  4.4       ]\n",
      " [8.         4.         2.33333333 7.66666667 6.66666667 4.\n",
      "  1.33333333]\n",
      " [2.         9.         5.6        5.4        9.4        5.\n",
      "  4.6       ]\n",
      " [9.         4.         2.13333333 7.86666667 6.86666667 4.\n",
      "  1.13333333]] \n",
      "\n",
      " [[ 1.50990331e-14  1.90958360e-14 -5.33333333e-01  5.33333333e-01\n",
      "   5.33333333e-01  1.37667655e-14  4.66666667e-01]\n",
      " [-8.43769499e-15 -1.24344979e-14 -4.00000000e-01  4.00000000e-01\n",
      "   4.00000000e-01 -7.10542736e-15  6.00000000e-01]\n",
      " [ 1.77635684e-15  2.22044605e-15  6.66666667e-01 -6.66666667e-01\n",
      "  -6.66666667e-01  1.77635684e-15 -3.33333333e-01]\n",
      " [ 4.21884749e-15  5.32907052e-15  4.00000000e-01 -4.00000000e-01\n",
      "  -4.00000000e-01  3.55271368e-15 -6.00000000e-01]\n",
      " [-1.24344979e-14 -1.42108547e-14 -1.33333333e-01  1.33333333e-01\n",
      "   1.33333333e-01 -9.76996262e-15 -1.33333333e-01]]\n",
      "mean of the rank 3 residual: 0.2438095238095271\n"
     ]
    }
   ],
   "source": [
    "# Problem 3d\n",
    "\n",
    "t_3 = np.hstack((t_2,T[:, 2].reshape(-1,1))) # define t_3 as first 3 cols of T\n",
    "w_3 = t_3.T @ X # find minimum solution w_3\n",
    "X_rank3 = t_3 @ w_3 # find rank 3 approximation of X\n",
    "residual_rank3 = X - X_rank3\n",
    "print(X_rank3, \"\\n\\n\", residual_rank3)\n",
    "print(f\"mean of the rank 3 residual: {np.mean(np.abs(residual_rank3))}\")\n",
    "\n",
    "# Problem 3d comment:\n",
    "# Increasing the rank in this case does not meaningfully reduce\n",
    "# the residual error. The rank 2 approximation was a good approximation.\n",
    "# Furthermore, it is difficult to interpret what the taste vector t_3\n",
    "# means in terms of the data. (-0.632, 0.316, 0.224, -0.316, 0.632)\n",
    "# This indicates a mild preference for Pride & Prejudice and The Martian,\n",
    "# a strong preference for Star Wars, but a dislike of Star Trek and \n",
    "# Sense & Sensibility. The taste vector is too specific to be useful\n",
    "# to include in the approximation.\n"
   ]
  },
  {
   "cell_type": "code",
   "execution_count": null,
   "id": "f86ec1cf",
   "metadata": {},
   "outputs": [],
   "source": []
  },
  {
   "cell_type": "code",
   "execution_count": null,
   "id": "7c39ea6a",
   "metadata": {},
   "outputs": [],
   "source": []
  }
 ],
 "metadata": {
  "kernelspec": {
   "display_name": "Python 3 (ipykernel)",
   "language": "python",
   "name": "python3"
  },
  "language_info": {
   "codemirror_mode": {
    "name": "ipython",
    "version": 3
   },
   "file_extension": ".py",
   "mimetype": "text/x-python",
   "name": "python",
   "nbconvert_exporter": "python",
   "pygments_lexer": "ipython3",
   "version": "3.11.4"
  }
 },
 "nbformat": 4,
 "nbformat_minor": 5
}
