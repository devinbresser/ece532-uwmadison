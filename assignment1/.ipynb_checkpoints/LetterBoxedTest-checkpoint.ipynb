{
 "cells": [
  {
   "cell_type": "code",
   "execution_count": 33,
   "id": "105390ee",
   "metadata": {},
   "outputs": [],
   "source": [
    "## HEADER ##\n",
    "import enchant\n",
    "from itertools import product\n",
    "\n",
    "# TO DO: clean up dictionary so that every word with consecutive letters such as \"SS\" is removed\n",
    "# this is because by the rules of the game this is never possible\n",
    "dictionaryBig = enchant.request_pwl_dict('letterboxed-solver-dictionary.txt')\n",
    "dictionarySmall = enchant.request_pwl_dict('letterboxed-solver-dictionary-small.txt')\n",
    "\n",
    "letters_array = [[\"I\",\"O\",\"S\"],[\"P\",\"N\",\"H\"], [\"U\",\"A\",\"M\"] ,[\"T\",\"W\",\"R\"]]"
   ]
  },
  {
   "cell_type": "code",
   "execution_count": 13,
   "id": "2130300b-2e34-4d45-bd06-371f3238a37b",
   "metadata": {},
   "outputs": [],
   "source": [
    "# general game plan\n",
    "# input: an array of four subarrays (full with letters)\n",
    "# output: solution that uses all letters at least once in the fewest possible words\n",
    "\n",
    "# approach: identify every string that is a combination from the arrays, according to the rules\n",
    "# filter out all strings that are not cross-referenced with a dictionary\n",
    "# PROBLEM: max string length to consider? saying 10 for this exercise\n",
    "# \n",
    "# create the chain of strings that uses every letter once, satisfies the condition \n",
    "# that the first letter of each string equals the last letter of the previous string\n",
    "# and has the least total amount of words"
   ]
  },
  {
   "cell_type": "code",
   "execution_count": 32,
   "id": "2cfcb09c",
   "metadata": {},
   "outputs": [],
   "source": [
    "# helper function: createSequences\n",
    "# create list of all n-character sequences\n",
    "def create_sequences(letters, n): \n",
    "    newList = list([product(array_to_tuples(letters), repeat=a) for a in range(n,n+1)])\n",
    "    return [item for sublist in newList for item in sublist]"
   ]
  },
  {
   "cell_type": "code",
   "execution_count": 15,
   "id": "bf7ae0ee",
   "metadata": {},
   "outputs": [],
   "source": [
    "# function: arrayToTuples\n",
    "# process input array into a list of tuples (letter, side)\n",
    "# side is represented numerically from the left (0) to the bottom (3), clockwise\n",
    "def array_to_tuples(inputArray):\n",
    "    newList = []\n",
    "    for a in range(len(inputArray)):\n",
    "        for b in inputArray[a]:\n",
    "            newList.append((b,a))\n",
    "    return newList"
   ]
  },
  {
   "cell_type": "code",
   "execution_count": 16,
   "id": "ddc20f25",
   "metadata": {},
   "outputs": [],
   "source": [
    "def passes_letter_conditions(inputArray):\n",
    "    \"\"\"\n",
    "    helper method passes_subsequency_condition\n",
    "    t\n",
    "    \n",
    "    input: an array of strings\n",
    "    output: True\n",
    "    \n",
    "    \"\"\"\n",
    "    # iterate over every \"word\" in the list\n",
    "    # iterate over every \"letter\" in the \"word\"\n",
    "    # do not need to consider the last \"letter\"\n",
    "    for a in range(len(inputArray)-1):\n",
    "        if(inputArray[a][1] == inputArray[a+1][1]):\n",
    "            return False\n",
    "    return True\n",
    "\n",
    "#x=\"A\"\n",
    "#passesSubsequencyCondition([(x,1),(x,2),(x,3),(x,2),(x,1),(x,4),(x,4),(x,3)])"
   ]
  },
  {
   "cell_type": "code",
   "execution_count": 17,
   "id": "b5227d7b",
   "metadata": {},
   "outputs": [],
   "source": [
    "# helper function: tossBadPermutations\n",
    "# removes all permutations with the condition that subsequent characters are within the same quadrant\n",
    "# input: an array of tuples\n",
    "# output: an array of tuples\n",
    "def toss_bad_permutations(inputArray):\n",
    "    keepList = []\n",
    "    tossList = []\n",
    "    for a in range(len(inputArray)):\n",
    "        if(passes_subsequency_condition(inputArray[a])):\n",
    "            keepList.append(inputArray[a])\n",
    "            continue\n",
    "        tossList.append(inputArray[a])  \n",
    "    return keepList#, tossList"
   ]
  },
  {
   "cell_type": "code",
   "execution_count": 18,
   "id": "d1bb3c58",
   "metadata": {},
   "outputs": [],
   "source": [
    "import enchant\n",
    "\n",
    "def to_string(inputArray):\n",
    "    wordList = []\n",
    "    word = \"\"\n",
    "    # for each tuple-word in the big list\n",
    "    for a in range(len(inputArray)):\n",
    "        word = \"\"\n",
    "        # for each tuple in the tuple-word\n",
    "        for b in range(len(inputArray[a])):\n",
    "            word+=(inputArray[a][b][0])\n",
    "        # ADD if(word is in english dictionary, then append(word))\n",
    "        if(dictionarySmall.check(word)):\n",
    "            #print(f\"About to add this word to the keepList: {word}\")\n",
    "            wordList.append(word)\n",
    "    return wordList"
   ]
  },
  {
   "cell_type": "code",
   "execution_count": 19,
   "id": "8d34b0c7",
   "metadata": {},
   "outputs": [],
   "source": [
    "# function: createCleanSequences\n",
    "# combines tossBadPermutations, createSequences and toString into a single clean array\n",
    "# input: the letters array (2d array of 1-character strings)\n",
    "# input: the highest desired word length to look for\n",
    "# output: a list of valid words from word length 2 to word length \"n\"\n",
    "\n",
    "def create_words(inputArray, n):\n",
    "    return to_string(toss_bad_permutations(create_sequences(inputArray, n)))"
   ]
  },
  {
   "cell_type": "code",
   "execution_count": 24,
   "id": "d334e664",
   "metadata": {},
   "outputs": [
    {
     "data": {
      "text/plain": [
       "1728"
      ]
     },
     "execution_count": 24,
     "metadata": {},
     "output_type": "execute_result"
    },
    {
     "data": {
      "text/plain": [
       "1728"
      ]
     },
     "execution_count": 24,
     "metadata": {},
     "output_type": "execute_result"
    }
   ],
   "source": [
    "import timeit\n",
    "#execution_time = timeit.timeit(lambda: create_words(lettersArray, 7), number=1)\n",
    "#print(f\"Execution time: {execution_time} seconds\")\n",
    "len(create_sequences(lettersArray, 3))"
   ]
  },
  {
   "cell_type": "code",
   "execution_count": 21,
   "id": "bc75e479",
   "metadata": {},
   "outputs": [],
   "source": [
    "## Alternate, slower method for checking words ##\n",
    "#import pandas as pd\n",
    "#lookupDictionary = pd.read_csv('letterboxed-solver-dictionary.txt').iloc[7:].reset_index().drop(\"index\",axis=1)\n",
    "#lookupDictionary = lookupDictionary.rename(columns={'{\\rtf1\\ansi\\ansicpg1252\\cocoartf2709': 'words'})\n",
    "#lookupDictionary.columns = [\"words\"]\n",
    "#lookupDictionary['words'] = lookupDictionary['words'].str.slice(0, -1)\n",
    "#lookupDictionary['words'] = lookupDictionary['words'].str.upper()\n",
    "\n",
    "#def is_exact_string_match(dataframe, column_name, target_string):\n",
    "   # Check if a target string is exactly matched within a specified DataFrame column.\n",
    "\n",
    "  #  Args:\n",
    "  #      dataframe (pd.DataFrame): The DataFrame to search in.\n",
    " #       column_name (str): The name of the column to search within.\n",
    " #       target_string (str): The string to search for.\n",
    "\n",
    "#    Returns:\n",
    "#        bool: True if the target string is exactly matched in the column, False otherwise.\n",
    "\n",
    "#    if column_name in dataframe.columns and dataframe[column_name].dtype == 'object':\n",
    " #       return any(dataframe[column_name] == target_string)\n",
    " #   else:\n",
    " #       return False"
   ]
  },
  {
   "cell_type": "code",
   "execution_count": 30,
   "id": "5b199d11",
   "metadata": {},
   "outputs": [
    {
     "data": {
      "text/plain": [
       "True"
      ]
     },
     "execution_count": 30,
     "metadata": {},
     "output_type": "execute_result"
    }
   ],
   "source": [
    "def contains_only_approved_letters(input_string, valid_letters):\n",
    "    return all(char in valid_letters for char in input_string)\n",
    "flat_list = [item for sublist in lettersArray for item in sublist]\n",
    "flat_list\n",
    "contains_only_approved_letters(\"IPUT\", flat_list)"
   ]
  },
  {
   "cell_type": "code",
   "execution_count": null,
   "id": "10b2cb80",
   "metadata": {},
   "outputs": [],
   "source": []
  }
 ],
 "metadata": {
  "kernelspec": {
   "display_name": "Python 3 (ipykernel)",
   "language": "python",
   "name": "python3"
  },
  "language_info": {
   "codemirror_mode": {
    "name": "ipython",
    "version": 3
   },
   "file_extension": ".py",
   "mimetype": "text/x-python",
   "name": "python",
   "nbconvert_exporter": "python",
   "pygments_lexer": "ipython3",
   "version": "3.11.4"
  }
 },
 "nbformat": 4,
 "nbformat_minor": 5
}
