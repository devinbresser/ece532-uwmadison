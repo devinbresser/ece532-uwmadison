{
 "cells": [
  {
   "cell_type": "code",
   "execution_count": 4,
   "id": "2da6db11",
   "metadata": {},
   "outputs": [],
   "source": [
    "import numpy as np\n",
    "v1 = np.array([1,2,3])\n",
    "u1 = np.array([2,3,4])\n",
    "sigma1 = 5\n",
    "A = sigma1 * np.outer(u1,v1)\n"
   ]
  },
  {
   "cell_type": "code",
   "execution_count": 35,
   "id": "ba86889c",
   "metadata": {},
   "outputs": [
    {
     "data": {
      "text/plain": [
       "array([-1.73825704, -0.05887893,  2.01450159])"
      ]
     },
     "execution_count": 35,
     "metadata": {},
     "output_type": "execute_result"
    }
   ],
   "source": [
    "b_k = np.random.randn(3)\n",
    "B = A.T @ A\n",
    "b_k"
   ]
  },
  {
   "cell_type": "code",
   "execution_count": 141,
   "id": "b4cc68ca",
   "metadata": {},
   "outputs": [
    {
     "name": "stdout",
     "output_type": "stream",
     "text": [
      "Iteration 1: [0.26726124 0.53452248 0.80178373]\n",
      "Iteration 2: [0.26726124 0.53452248 0.80178373]\n",
      "Iteration 3: [0.26726124 0.53452248 0.80178373]\n",
      "Iteration 4: [0.26726124 0.53452248 0.80178373]\n",
      "Iteration 5: [0.26726124 0.53452248 0.80178373]\n"
     ]
    }
   ],
   "source": [
    "b_k = np.random.randn(3)\n",
    "B = A.T @ A\n",
    "b_k\n",
    "\n",
    "for k in range(1,6):\n",
    "    b_k = (B @ b_k) / np.linalg.norm(B @ b_k)\n",
    "    print(f\"Iteration {k}: {b_k}\")"
   ]
  },
  {
   "cell_type": "code",
   "execution_count": 114,
   "id": "ac81c929",
   "metadata": {},
   "outputs": [
    {
     "data": {
      "text/plain": [
       "3"
      ]
     },
     "execution_count": 114,
     "metadata": {},
     "output_type": "execute_result"
    }
   ],
   "source": [
    "A = np.array([[1,2,3],[2,4,6],[3,6,9]])\n",
    "A_rand = np.random.rand(3,3)\n",
    "np.linalg.matrix_rank(A_rand)"
   ]
  },
  {
   "cell_type": "code",
   "execution_count": null,
   "id": "ecf364c0",
   "metadata": {},
   "outputs": [],
   "source": [
    "# Part 2 - Full Rank Matrix\n",
    "\n",
    "A_rand = np.random.rand(3,3)"
   ]
  },
  {
   "cell_type": "code",
   "execution_count": 163,
   "id": "eef27f68",
   "metadata": {},
   "outputs": [
    {
     "name": "stdout",
     "output_type": "stream",
     "text": [
      "Iteration 1: [-0.64209632 -0.4473858  -0.62254178]\n",
      "Iteration 2: [-0.62665758 -0.50727601 -0.59158375]\n",
      "Iteration 3: [-0.62531337 -0.51188937 -0.58902671]\n",
      "Iteration 4: [-0.62520702 -0.512251   -0.58882517]\n",
      "Iteration 5: [-0.62519867 -0.5122794  -0.58880934]\n",
      "Iteration 6: [-0.62519801 -0.51228163 -0.5888081 ]\n",
      "Iteration 7: [-0.62519796 -0.5122818  -0.588808  ]\n",
      "Iteration 8: [-0.62519796 -0.51228182 -0.588808  ]\n",
      "Iteration 9: [-0.62519796 -0.51228182 -0.58880799]\n",
      "\n",
      "\n",
      "[3.75022738e+00 1.08433958e-03 2.94488590e-01] \n",
      "\n",
      "\n",
      " [[ 0.62519796  0.7396984   0.24894535]\n",
      " [ 0.51228182 -0.14829043 -0.84591802]\n",
      " [ 0.58880799 -0.65639639  0.47164492]]\n"
     ]
    }
   ],
   "source": [
    "# When you use A A^T, you get the eigenvector of A A^T associated \n",
    "# with the largest eigenvalue. (The largest right singular vector)\n",
    "\n",
    "A = np.array([[1,2,3],[2,4,6],[3,6,9]])\n",
    "A_rand = np.random.rand(3,3)\n",
    "AAT_rand = A_rand @ A_rand.T\n",
    "\n",
    "b_0 = np.random.randn(3)\n",
    "b_k = b_0;\n",
    "\n",
    "for k in range(1,10):\n",
    "    b_k = (AAT_rand @ b_k) / np.linalg.norm(AAT_rand @ b_k)\n",
    "    print(f\"Iteration {k}: {b_k}\")\n",
    "    \n",
    "print('\\n')\n",
    "print(np.linalg.eig(AAT_rand)[0], \"\\n\\n\\n\", np.linalg.eig(AAT_rand)[1])"
   ]
  },
  {
   "cell_type": "code",
   "execution_count": 164,
   "id": "3f11710e",
   "metadata": {},
   "outputs": [
    {
     "name": "stdout",
     "output_type": "stream",
     "text": [
      "Iteration 1: [-0.76507102 -0.1312568  -0.63042683]\n",
      "Iteration 2: [-0.78149751 -0.22645541 -0.58136012]\n",
      "Iteration 3: [-0.78237272 -0.2338926  -0.57722368]\n",
      "Iteration 4: [-0.78243902 -0.23447592 -0.57689707]\n",
      "Iteration 5: [-0.78244421 -0.23452172 -0.57687141]\n",
      "Iteration 6: [-0.78244462 -0.23452531 -0.5768694 ]\n",
      "Iteration 7: [-0.78244465 -0.2345256  -0.57686924]\n",
      "Iteration 8: [-0.78244465 -0.23452562 -0.57686923]\n",
      "Iteration 9: [-0.78244465 -0.23452562 -0.57686922]\n",
      "\n",
      "\n",
      "[3.75022738e+00 1.08433958e-03 2.94488590e-01] \n",
      "\n",
      "\n",
      " [[ 0.78244465  0.61490069 -0.09837433]\n",
      " [ 0.23452562 -0.43732343 -0.86818543]\n",
      " [ 0.57686922 -0.65623575  0.48639135]]\n"
     ]
    }
   ],
   "source": [
    "# When you use A^T A, you get the eigenvector of A^T A associated \n",
    "# with the largest eigenvalue. (The largest left singular vector)\n",
    "\n",
    "ATA_rand = A_rand.T @ A_rand\n",
    "\n",
    "b_0 = np.random.randn(3)\n",
    "b_k = b_0;\n",
    "\n",
    "for k in range(1,10):\n",
    "    b_k = (ATA_rand @ b_k) / np.linalg.norm(ATA_rand @ b_k)\n",
    "    print(f\"Iteration {k}: {b_k}\")\n",
    "    \n",
    "print('\\n')\n",
    "print(np.linalg.eig(ATA_rand)[0], \"\\n\\n\\n\", np.linalg.eig(ATA_rand)[1])"
   ]
  },
  {
   "cell_type": "code",
   "execution_count": 165,
   "id": "a33f2ff9",
   "metadata": {},
   "outputs": [
    {
     "name": "stdout",
     "output_type": "stream",
     "text": [
      "Iteration 1: [-0.78651342 -0.27760667 -0.55166219]\n",
      "Iteration 2: [-0.78282584 -0.23794107 -0.57495021]\n",
      "Iteration 3: [-0.78247502 -0.23479396 -0.57671886]\n",
      "Iteration 4: [-0.78244704 -0.23454669 -0.57685742]\n",
      "Iteration 5: [-0.78244484 -0.23452727 -0.5768683 ]\n",
      "Iteration 6: [-0.78244467 -0.23452575 -0.57686915]\n",
      "Iteration 7: [-0.78244465 -0.23452563 -0.57686922]\n",
      "Iteration 8: [-0.78244465 -0.23452562 -0.57686922]\n",
      "Iteration 9: [-0.78244465 -0.23452562 -0.57686922]\n",
      "\n",
      "\n",
      "[3.75022738e+00 1.08433958e-03 2.94488590e-01] \n",
      "\n",
      "\n",
      " [[ 0.78244465  0.61490069 -0.09837433]\n",
      " [ 0.23452562 -0.43732343 -0.86818543]\n",
      " [ 0.57686922 -0.65623575  0.48639135]]\n"
     ]
    }
   ],
   "source": [
    "# When you use A, you get the eigenvector of A associated \n",
    "# with the largest eigenvalue.\n",
    "\n",
    "ATA_rand = A_rand.T @ A_rand\n",
    "\n",
    "b_0 = np.random.randn(3)\n",
    "b_k = b_0;\n",
    "\n",
    "for k in range(1,10):\n",
    "    b_k = (ATA_rand @ b_k) / np.linalg.norm(ATA_rand @ b_k)\n",
    "    print(f\"Iteration {k}: {b_k}\")\n",
    "\n",
    "print('\\n')\n",
    "print(np.linalg.eig(ATA_rand)[0], \"\\n\\n\\n\", np.linalg.eig(ATA_rand)[1])"
   ]
  },
  {
   "cell_type": "code",
   "execution_count": null,
   "id": "e77644ff",
   "metadata": {},
   "outputs": [],
   "source": []
  }
 ],
 "metadata": {
  "kernelspec": {
   "display_name": "Python 3 (ipykernel)",
   "language": "python",
   "name": "python3"
  },
  "language_info": {
   "codemirror_mode": {
    "name": "ipython",
    "version": 3
   },
   "file_extension": ".py",
   "mimetype": "text/x-python",
   "name": "python",
   "nbconvert_exporter": "python",
   "pygments_lexer": "ipython3",
   "version": "3.11.4"
  }
 },
 "nbformat": 4,
 "nbformat_minor": 5
}
